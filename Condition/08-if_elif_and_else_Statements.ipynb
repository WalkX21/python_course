{
    "cells": [
        {
            "cell_type": "markdown",
            "metadata": {
                "colab_type": "text",
                "id": "view-in-github"
            },
            "source": [
                "<a href=\"https://colab.research.google.com/github/yahia-kplr/Fondamentaux-Python_fr/blob/main/Jour_02/08-if_elif_and_else_Statements.ipynb\" target=\"_blank\"><img src=\"https://colab.research.google.com/assets/colab-badge.svg\" alt=\"Open In Colab\"/></a>"
            ]
        },
        {
            "cell_type": "markdown",
            "metadata": {
                "id": "I2jeB1zN7QnM"
            },
            "source": [
                "# if, elif, else Déclarations\n",
                "\n",
                "Les instructions <code>if</code> en Python nous permettent de dire à l'ordinateur d'effectuer des actions alternatives en fonction d'un certain ensemble de résultats.\n",
                "\n",
                "Verbalement, nous pouvons imaginer que nous disons à l'ordinateur :\n",
                "\n",
                "\"Hé si ce cas se produit, effectuez une action\"\n",
                "\n",
                "Nous pouvons ensuite développer davantage l'idée avec les instructions <code>elif</code> et <code>else</code>, qui nous permettent de dire à l'ordinateur :\n",
                "\n",
                "\"Hé, si ce cas se produit, effectuez une action. Sinon, si un autre cas se produit, effectuez une autre action. Sinon, si *aucun* des cas ci-dessus ne s'est produit, effectuez cette action.\"\n",
                "\n",
                "Allons-y et regardons le format de syntaxe des instructions <code>if</code> pour avoir une meilleure idée de ceci :\n",
                "\n",
                "si cas1 :\n",
                "effectuer l'action 1\n",
                "Maison F :\n",
                "effectuer une action2\n",
                "autre:\n",
                "effectuer une action3\n"
            ]
        },
        {
            "cell_type": "markdown",
            "metadata": {
                "id": "uHo_h3N5TzjU"
            },
            "source": [
                "# Branchement\n"
            ]
        },
        {
            "cell_type": "markdown",
            "metadata": {
                "id": "IqOh7Cu3TzjU"
            },
            "source": [
                "La création de branches nous permet d'exécuter différentes instructions pour différentes entrées. Il est utile de considérer une **instruction si** comme une salle verrouillée, si l'instruction est **Vrai**, nous pouvons entrer dans la salle et votre programme exécutera certaines tâches prédéfinies, mais si l'instruction est **Faux* * le programme ignorera la tâche.\n"
            ]
        },
        {
            "cell_type": "markdown",
            "metadata": {
                "id": "XRubBfYETzjV"
            },
            "source": [
                "Par exemple, considérons le rectangle bleu représentant un concert ACDC. Si la personne a plus de 18 ans, elle peut participer au concert ACDC. S'ils ont 18 ans ou moins de 18 ans, ils ne peuvent pas participer au concert.\n",
                "\n",
                "Utilisez les instructions de condition apprises auparavant, car les conditions doivent être vérifiées dans l'**instruction if**. La syntaxe est aussi simple que <code> if <i>instruction de condition</i> :</code>, qui contient un mot <code>if</code>, n'importe quelle instruction de condition et deux-points à la fin. Commencez vos tâches qui doivent être exécutées sous cette condition dans une nouvelle ligne avec un retrait. Les lignes de code après les deux-points et avec un retrait ne seront exécutées que lorsque l'**instruction **if** est **True**. Les tâches se termineront lorsque la ligne de code ne contiendra pas l'indentation.\n",
                "\n",
                "Dans le cas ci-dessous, les tâches exécutées <code>print(\"vous pouvez entrer\")</code> ne se produisent que si la variable <code>age</code> est supérieure à 18 est un cas Vrai car cette ligne de code a l'indentation. Cependant, l'exécution de <code>print(“move on”)</code> ne sera pas influencée par l'instruction if.\n"
            ]
        },
        {
            "cell_type": "code",
            "execution_count": 2,
            "metadata": {
                "id": "xMlF5OPzTzjV"
            },
            "outputs": [
                {
                    "name": "stdout",
                    "output_type": "stream",
                    "text": [
                        "move on\n"
                    ]
                }
            ],
            "source": [
                "# If statement example\n",
                "\n",
                "age = 17\n",
                "#age = 18\n",
                "\n",
                "#expression that can be true or false\n",
                "if age > 18:\n",
                "    \n",
                "    #within an indent, we have the expression that is run if the condition is true\n",
                "    print(\"you can enter\" )\n",
                "\n",
                "#The statements after the if statement will run regardless if the condition is true or false \n",
                "print(\"move on\")"
            ]
        },
        {
            "cell_type": "markdown",
            "metadata": {
                "id": "9k0z8FIETzjV"
            },
            "source": [
                "<i>Essayez de décommenter la variable d'âge</i>\n"
            ]
        },
        {
            "cell_type": "markdown",
            "metadata": {
                "id": "Us90P4FwTzjV"
            },
            "source": [
                "Il est utile d'utiliser le diagramme suivant pour illustrer le processus. Sur le côté gauche, nous voyons ce qui se passe lorsque la condition est <b>Vraie</b>. La personne entre dans le concert ACDC représentant le code dans le tiret en cours d'exécution ; ils passent ensuite à autre chose. Sur le côté droit, nous voyons ce qui se passe lorsque la condition est <b>Faux</b> ; la personne ne se voit pas accorder l'accès, et la personne passe à autre chose. Dans ce cas, le segment de code dans l'indentation ne s'exécute pas, mais le reste des instructions est exécuté.\n"
            ]
        },
        {
            "cell_type": "markdown",
            "metadata": {
                "id": "gJaVkFo0TzjW"
            },
            "source": [
                "<img src=\"https://s3-api.us-geo.objectstorage.softlayer.net/cf-courses-data/CognitiveClass/PY0101EN/Chapter%203/Images/CondsIf.gif\" width=\"650\" />\n"
            ]
        },
        {
            "cell_type": "markdown",
            "metadata": {
                "id": "9O2HFUFYTzjW"
            },
            "source": [
                "L'instruction <code>else</code> exécute un bloc de code si aucune des conditions n'est **True** avant cette instruction <code>else</code>. Utilisons à nouveau l'analogie du concert ACDC. Si l'utilisateur a 17 ans, il ne peut pas aller au concert ACDC, mais il peut aller au concert Meatloaf.\n",
                "La syntaxe de l'instruction <code>else</code> est similaire à la syntaxe de l'instruction <code>if</code>, comme <code>else :</code>. Notez qu'il n'y a pas de déclaration de condition pour <code>else</code>.\n",
                "Essayez de modifier les valeurs de <code>age</code> pour voir ce qui se passe :\n"
            ]
        },
        {
            "cell_type": "code",
            "execution_count": 4,
            "metadata": {
                "id": "USf8Ow9dTzjW"
            },
            "outputs": [
                {
                    "name": "stdout",
                    "output_type": "stream",
                    "text": [
                        "you can enter\n",
                        "move on\n"
                    ]
                }
            ],
            "source": [
                "# Else statement example\n",
                "\n",
                "age = 18\n",
                "# age = 19\n",
                "\n",
                "if age >= 18:\n",
                "    print(\"you can enter\" )\n",
                "else:\n",
                "    print(\"go see Meat Loaf\" )\n",
                "    \n",
                "print(\"move on\")"
            ]
        },
        {
            "cell_type": "markdown",
            "metadata": {
                "id": "7z4Z3i4CTzjW"
            },
            "source": [
                "Le processus est illustré ci-dessous, où chacune des possibilités est illustrée de chaque côté de l'image. A gauche se trouve le cas où l'âge est de 17 ans, nous fixons la variable âge à 17 ans, et cela correspond à l'individu assistant au concert de Meatloaf. La partie droite montre ce qui se passe lorsque la personne a plus de 18 ans, dans ce cas 19 ans, et que la personne a accès au concert.\n"
            ]
        },
        {
            "cell_type": "markdown",
            "metadata": {
                "id": "hdhNQhqOTzjX"
            },
            "source": [
                "<img src=\"https://s3-api.us-geo.objectstorage.softlayer.net/cf-courses-data/CognitiveClass/PY0101EN/Chapter%203/Images/CondsElse.gif\" width=\"650\" />\n"
            ]
        },
        {
            "cell_type": "markdown",
            "metadata": {
                "id": "2WI6aQDcTzjX"
            },
            "source": [
                "La déclaration <code>elif</code>, abréviation de else if, nous permet de vérifier des conditions supplémentaires si les déclarations de condition avant elle sont <b>False</b>. Si la condition de l'instruction <code>elif</code> est <b>True</b>, les expressions alternatives seront exécutées. Prenons l'exemple du concert, où si l'individu a 18 ans, il ira au concert de Pink Floyd au lieu d'assister au concert ACDC ou Meat-loaf. La personne de 18 ans entre dans la zone, et comme elle n'a pas plus de 18 ans, elle ne peut pas voir ACDC, mais comme elle a 18 ans, elle fréquente Pink Floyd. Après avoir vu Pink Floyd, ils passent à autre chose. La syntaxe de l'instruction <code>elif</code> est similaire en ce sens que nous changeons simplement l'instruction <code>if</code> dans l'instruction <code>if</code> en <code>elif</code>.\n"
            ]
        },
        {
            "cell_type": "code",
            "execution_count": null,
            "metadata": {
                "id": "ctXpP1-9TzjX"
            },
            "outputs": [],
            "source": [
                "# Elif statment example\n",
                "\n",
                "age = 18\n",
                "\n",
                "if age > 18:\n",
                "    print(\"you can enter\" )\n",
                "elif age == 18:\n",
                "    print(\"go see Pink Floyd\")\n",
                "else:\n",
                "    print(\"go see Meat Loaf\" )\n",
                "    \n",
                "print(\"move on\")"
            ]
        },
        {
            "cell_type": "markdown",
            "metadata": {
                "id": "Y504Byi9TzjX"
            },
            "source": [
                "Les trois combinaisons sont présentées dans la figure ci-dessous. La région la plus à gauche montre ce qui se passe lorsque l'individu a moins de 18 ans. La composante centrale indique quand l'individu a exactement 18 ans. La partie la plus à droite indique quand l'individu a plus de 18 ans.\n"
            ]
        },
        {
            "cell_type": "markdown",
            "metadata": {
                "id": "OtLJhg0LTzjX"
            },
            "source": [
                "<img src =\"https://s3-api.us-geo.objectstorage.softlayer.net/cf-courses-data/CognitiveClass/PY0101EN/Chapter%203/Images/CondsElif.gif\" width=\"650\" />\n"
            ]
        },
        {
            "cell_type": "markdown",
            "metadata": {
                "id": "f9FDRmRbTzjX"
            },
            "source": [
                "Regardez le code suivant :\n"
            ]
        },
        {
            "cell_type": "code",
            "execution_count": 5,
            "metadata": {
                "id": "ve-F7uyLTzjY"
            },
            "outputs": [
                {
                    "name": "stdout",
                    "output_type": "stream",
                    "text": [
                        "do something..\n"
                    ]
                }
            ],
            "source": [
                "# Condition statement example\n",
                "\n",
                "album_year = 1983\n",
                "album_year = 1970\n",
                "\n",
                "if album_year > 1980:\n",
                "    print(\"Album year is greater than 1980\")\n",
                "    \n",
                "print('do something..')"
            ]
        },
        {
            "cell_type": "markdown",
            "metadata": {
                "id": "3o6tdbKZTzjY"
            },
            "source": [
                "N'hésitez pas à remplacer la valeur <code>album_year</code> par d'autres valeurs. Vous verrez que le résultat change !\n"
            ]
        },
        {
            "cell_type": "markdown",
            "metadata": {
                "id": "XqluwMDPTzjY"
            },
            "source": [
                "Notez que le code dans le bloc <b>indenté</b> ci-dessus ne sera exécuté que si les résultats sont <b>True</b>.\n"
            ]
        },
        {
            "cell_type": "markdown",
            "metadata": {
                "id": "XLtecM2VTzjY"
            },
            "source": [
                "Comme précédemment, nous pouvons ajouter un bloc <code>else</code> au bloc <code>if</code>. Le code du bloc <code>else</code> ne sera exécuté que si le résultat est <b>False</b>.\n",
                "\n",
                "\n",
                "<b>Syntaxe :</b>\n",
                "\n",
                "si (état):\n",
                "# faire quelque chose\n",
                "autre:\n",
                "# faire autre chose\n"
            ]
        },
        {
            "cell_type": "markdown",
            "metadata": {
                "id": "KEi9hD5dTzjY"
            },
            "source": [
                "Si la condition dans l'instruction <code>if</code> est <b>False</b>, l'instruction après le bloc <code>else</code> s'exécutera. Ceci est démontré sur la figure :\n"
            ]
        },
        {
            "cell_type": "markdown",
            "metadata": {
                "id": "Q2g0lEITTzjY"
            },
            "source": [
                "<img src=\"https://s3-api.us-geo.objectstorage.softlayer.net/cf-courses-data/CognitiveClass/PY0101EN/Chapter%203/Images/CondsLogicMap.png\" width=\"650\" />\n"
            ]
        },
        {
            "cell_type": "code",
            "execution_count": 6,
            "metadata": {
                "id": "yT2wpL9iTzjY"
            },
            "outputs": [
                {
                    "name": "stdout",
                    "output_type": "stream",
                    "text": [
                        "Album year is greater than 1980\n",
                        "do something..\n"
                    ]
                }
            ],
            "source": [
                "# Condition statement example\n",
                "\n",
                "album_year = 1983\n",
                "#album_year = 1970\n",
                "\n",
                "if album_year > 1980:\n",
                "    print(\"Album year is greater than 1980\")\n",
                "else:\n",
                "    print(\"less than 1980\")\n",
                "\n",
                "print('do something..')"
            ]
        },
        {
            "cell_type": "markdown",
            "metadata": {
                "id": "gCtVLpeoTzjY"
            },
            "source": [
                "N'hésitez pas à remplacer la valeur <code>album_year</code> par d'autres valeurs. Vous verrez que le résultat change en fonction de celle-ci !\n"
            ]
        },
        {
            "cell_type": "markdown",
            "metadata": {
                "id": "Z8SHHclLTzjY"
            },
            "source": [
                "## Opérateurs logiques\n"
            ]
        },
        {
            "cell_type": "markdown",
            "metadata": {
                "id": "P3IiCyCCTzjY"
            },
            "source": [
                "\n",
                "Parfois, vous souhaitez vérifier plusieurs conditions à la fois. Par exemple, vous voudrez peut-être vérifier si une condition et une autre condition sont **Vraies**. Les opérateurs logiques permettent de combiner ou de modifier des conditions.\n",
                "<ul>\n",
                "<li><code>et</code></li>\n",
                "<li><code>ou</code></li>\n",
                "<li><code>non</code></li>\n",
                "</ul>\n",
                "\n",
                "Ces opérateurs sont résumés pour deux variables à l'aide des tables de vérité suivantes :\n"
            ]
        },
        {
            "cell_type": "markdown",
            "metadata": {
                "id": "50mBryOcTzjZ"
            },
            "source": [
                "<img src=\"https://s3-api.us-geo.objectstorage.softlayer.net/cf-courses-data/CognitiveClass/PY0101EN/Chapter%203/Images/CondsTable.png\" width=\"650\" />\n"
            ]
        },
        {
            "cell_type": "markdown",
            "metadata": {
                "id": "DPoTVLWwTzja"
            },
            "source": [
                "L'instruction <code>and</code> est uniquement **True** lorsque les deux conditions sont vraies. L'instruction <code>or</code> est vraie si une condition est **True**. L'instruction <code>not</code> génère la valeur de vérité opposée.\n"
            ]
        },
        {
            "cell_type": "markdown",
            "metadata": {
                "id": "tgrsVeYyTzja"
            },
            "source": [
                "Voyons comment déterminer si un album est sorti après 1979 (1979 n'est pas inclus) et avant 1990 (1990 n'est pas inclus). Les périodes comprises entre 1980 et 1989 satisfont à cette condition. Ceci est démontré dans la figure ci-dessous. Le vert sur les lignes <strong>a</strong> et <strong>b</strong> représente les périodes où l'énoncé est **Vrai**. Le vert sur la ligne <strong>c</strong> représente l'endroit où les deux conditions sont **Vrai**, cela correspond à l'endroit où les régions vertes se chevauchent.\n",
                "\n"
            ]
        },
        {
            "cell_type": "markdown",
            "metadata": {
                "id": "P319s_4VTzja"
            },
            "source": [
                "<img src=\"https://s3-api.us-geo.objectstorage.softlayer.net/cf-courses-data/CognitiveClass/PY0101EN/Chapter%203/Images/CondsEgOne.png\" width=\"650\" />\n"
            ]
        },
        {
            "cell_type": "markdown",
            "metadata": {
                "id": "qlRLmxNETzja"
            },
            "source": [
                "Le bloc de code pour effectuer cette vérification est donné par :\n"
            ]
        },
        {
            "cell_type": "code",
            "execution_count": 7,
            "metadata": {
                "id": "Dp3rYbA9Tzja"
            },
            "outputs": [
                {
                    "name": "stdout",
                    "output_type": "stream",
                    "text": [
                        "Album year was in between 1980 and 1989\n",
                        "\n",
                        "Do Stuff..\n"
                    ]
                }
            ],
            "source": [
                "# Condition statement example\n",
                "\n",
                "album_year = 1980\n",
                "\n",
                "if(album_year > 1979) and (album_year < 1990):\n",
                "    print (\"Album year was in between 1980 and 1989\")\n",
                "    \n",
                "print(\"\")\n",
                "print(\"Do Stuff..\")"
            ]
        },
        {
            "cell_type": "markdown",
            "metadata": {
                "id": "7VuxLZx0Tzja"
            },
            "source": [
                "Pour déterminer si un album est sorti avant 1980 (~ - 1979) ou après 1989 (1990 - ~), une instruction **ou** peut être utilisée. Les périodes antérieures à 1980 (~ - 1979) ou postérieures à 1989 (1990 - ~) satisfont à cette condition. Ceci est démontré dans la figure suivante, la couleur verte dans <strong>a</strong> et <strong>b</strong> représente les périodes où l'énoncé est vrai. La couleur verte dans **c** représente où au moins une des conditions\n",
                "sont vrai.\n"
            ]
        },
        {
            "cell_type": "markdown",
            "metadata": {
                "id": "2ixUCld2Tzjb"
            },
            "source": [
                "<img src=\"https://s3-api.us-geo.objectstorage.softlayer.net/cf-courses-data/CognitiveClass/PY0101EN/Chapter%203/Images/CondsEgTwo.png\" width=\"650\" />\n"
            ]
        },
        {
            "cell_type": "markdown",
            "metadata": {
                "id": "zxFOu0tBTzjb"
            },
            "source": [
                "Le bloc de code pour effectuer cette vérification est donné par :\n"
            ]
        },
        {
            "cell_type": "code",
            "execution_count": null,
            "metadata": {
                "id": "oYqAl_1STzjb"
            },
            "outputs": [],
            "source": [
                "# Condition statement example\n",
                "\n",
                "album_year = 1990\n",
                "\n",
                "if(album_year < 1980) or (album_year > 1989):\n",
                "    print (\"Album was not made in the 1980's\")\n",
                "else:\n",
                "    print(\"The Album was made in the 1980's \")"
            ]
        },
        {
            "cell_type": "markdown",
            "metadata": {
                "id": "hrNQvCvBTzjb"
            },
            "source": [
                "L'instruction <code>not</code> vérifie si l'instruction est fausse :\n"
            ]
        },
        {
            "cell_type": "code",
            "execution_count": 9,
            "metadata": {
                "id": "uLUOH0VJTzjb"
            },
            "outputs": [],
            "source": [
                "# Condition statement example\n",
                "\n",
                "album_year = 1983\n",
                "\n",
                "if not (album_year == 1983):\n",
                "    print (\"Album year is not 1984\")"
            ]
        },
        {
            "cell_type": "markdown",
            "metadata": {
                "id": "-j4rd8ExTzjc"
            },
            "source": [
                "<h>\n"
            ]
        },
        {
            "cell_type": "markdown",
            "metadata": {
                "id": "4NNE91rKTzjc"
            },
            "source": [
                "# Quiz sur les conditions\n"
            ]
        },
        {
            "cell_type": "markdown",
            "metadata": {
                "id": "__TTV1p4Tzjc"
            },
            "source": [
                "Écrivez une instruction if pour déterminer si un album a une note supérieure à 8. Testez-le en utilisant la note de l'album <b>\"Back in Black\"</b> qui a une note de 8,5. Si la déclaration est vraie, écrivez \"Cet album est incroyable!\"\n"
            ]
        },
        {
            "cell_type": "code",
            "execution_count": null,
            "metadata": {
                "id": "Ol4ildoeTzjc",
                "outputId": "ee46b915-2589-4faa-9e9a-16b6052a1233"
            },
            "outputs": [
                {
                    "name": "stdout",
                    "output_type": "stream",
                    "text": [
                        "This album is Amazing!\n"
                    ]
                }
            ],
            "source": [
                "# Write your code below and press Shift+Enter to execute\n",
                "album = "
            ]
        },
        {
            "cell_type": "code",
            "execution_count": null,
            "metadata": {
                "cellView": "form",
                "id": "tmPAYubV-CeL"
            },
            "outputs": [],
            "source": [
                "#@title Solution\n",
                "rating = 8.5\n",
                "if rating > 8:\n",
                "    print (\"This album is Amazing!\")"
            ]
        },
        {
            "cell_type": "markdown",
            "metadata": {
                "id": "uUcZgaE6Tzjc"
            },
            "source": [
                "<h>\n"
            ]
        },
        {
            "cell_type": "markdown",
            "metadata": {
                "id": "7w4ant3ZTzjc"
            },
            "source": [
                "Écrivez une instruction if-else qui effectue les opérations suivantes. Si la note est plus grande, alors huit impriment \"cet album est incroyable\". Si la note est inférieure ou égale à 8, écrivez « cet album est ok ».\n"
            ]
        },
        {
            "cell_type": "code",
            "execution_count": null,
            "metadata": {
                "id": "CE_XSeAkTzjc",
                "outputId": "00724036-37b8-4d81-f275-9e273bdcd001"
            },
            "outputs": [
                {
                    "name": "stdout",
                    "output_type": "stream",
                    "text": [
                        "this album is ok\n"
                    ]
                }
            ],
            "source": [
                "# Write your code below and press Shift+Enter to execute"
            ]
        },
        {
            "cell_type": "code",
            "execution_count": null,
            "metadata": {
                "id": "WcjdGoTg-J0S"
            },
            "outputs": [],
            "source": [
                "#@title Solution\n",
                "rating = 8.5\n",
                "if rating > 8:\n",
                "    print (\"this album is amazing\")\n",
                "else:\n",
                "    print (\"this album is ok\")"
            ]
        },
        {
            "cell_type": "markdown",
            "metadata": {
                "id": "L7q29uflTzjc"
            },
            "source": [
                "<h>\n"
            ]
        },
        {
            "cell_type": "markdown",
            "metadata": {
                "id": "Z25TABcMTzjd"
            },
            "source": [
                "Écrivez une instruction if pour déterminer si un album est sorti avant 1980 ou dans les années : 1991 ou 1993. Si la condition est vraie, imprimez l'année de sortie de l'album.\n"
            ]
        },
        {
            "cell_type": "code",
            "execution_count": null,
            "metadata": {
                "id": "iWl1TG3TTzjd",
                "outputId": "8dd16aee-00a4-471c-f77a-f51ca2aa6c76"
            },
            "outputs": [
                {
                    "name": "stdout",
                    "output_type": "stream",
                    "text": [
                        "this album came out already\n"
                    ]
                }
            ],
            "source": [
                "# Write your code below and press Shift+Enter to execute"
            ]
        },
        {
            "cell_type": "code",
            "execution_count": null,
            "metadata": {
                "id": "1ZRc1GJx-NZb"
            },
            "outputs": [],
            "source": [
                "#@title Solution\n",
                "album_year = 1979\n",
                "\n",
                "if album_year < 1980 or album_year == 1991 or album_year == 1993:\n",
                "    print (\"this album came out already\")"
            ]
        }
    ],
    "metadata": {
        "kernelspec": {
            "display_name": "Python 3",
            "language": "python",
            "name": "python3"
        },
        "language_info": {
            "codemirror_mode": {
                "name": "ipython",
                "version": 3
            },
            "file_extension": ".py",
            "mimetype": "text/x-python",
            "name": "python",
            "nbconvert_exporter": "python",
            "pygments_lexer": "ipython3",
            "version": "3.7.9 (tags/v3.7.9:13c94747c7, Aug 17 2020, 18:58:18) [MSC v.1900 64 bit (AMD64)]"
        },
        "vscode": {
            "interpreter": {
                "hash": "548955215833c5cef9ca446febdbcd3f517025cd8f72e3f026c8858cebd051b9"
            }
        }
    },
    "nbformat": 4,
    "nbformat_minor": 0
}
