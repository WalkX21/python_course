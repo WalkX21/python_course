{
    "cells": [
        {
            "cell_type": "markdown",
            "metadata": {
                "colab_type": "text",
                "id": "view-in-github"
            },
            "source": [
                "<a href=\"https://colab.research.google.com/github/yahia-kplr/Fondamentaux-Python_fr/blob/main/Jour_02/06-Comparison_Operators.ipynb\" target=\"_blank\"><img src=\"https://colab.research.google.com/assets/colab-badge.svg\" alt=\"Open In Colab\"/></a>"
            ]
        },
        {
            "cell_type": "markdown",
            "metadata": {
                "id": "JXqb2YDD2fJG"
            },
            "source": [
                "# Opérateurs de comparaison\n",
                "\n",
                "Dans cette conférence, nous allons en apprendre davantage sur les opérateurs de comparaison en Python. Ces opérateurs nous permettront de comparer des variables et de sortir une valeur booléenne (Vrai ou Faux).\n",
                "\n",
                "Si vous avez des connaissances en mathématiques, ces opérateurs devraient être très simples.\n",
                "\n",
                "Nous allons d'abord présenter un tableau des opérateurs de comparaison, puis travailler sur quelques exemples :\n",
                "\n",
                "<h2> Tableau des opérateurs de comparaison </h2><p> Dans le tableau ci-dessous, a=3 et b=4.</p>\n",
                "\n",
                "<table class=\"table bordée de table\">\n",
                "<tr>\n",
                "<th style=\"width:10%\">Opérateur</th><th style=\"width:45%\">Description</th><th>Exemple</th>\n",
                "</tr>\n",
                "<tr>\n",
                "<td>==</td>\n",
                "<td>Si les valeurs de deux opérandes sont égales, alors la condition devient vraie.</td>\n",
                "<td> (a == b) n'est pas vrai.</td>\n",
                "</tr>\n",
                "<tr>\n",
                "<td>!=</td>\n",
                "<td>Si les valeurs de deux opérandes ne sont pas égales, alors la condition devient vraie.</td>\n",
                "<td>(a != b) est vrai</td>\n",
                "</tr>\n",
                "<tr>\n",
                "<td>></td>\n",
                "<td>Si la valeur de l'opérande gauche est supérieure à la valeur de l'opérande droit, alors la condition devient vraie.</td>\n",
                "<td> (a > b) n'est pas vrai.</td>\n",
                "</tr>\n",
                "<tr>\n",
                "<td><</td>\n",
                "<td>Si la valeur de l'opérande gauche est inférieure à la valeur de l'opérande droit, alors la condition devient vraie.</td>\n",
                "<td> (a < b) est vrai.</td>\n",
                "</tr>\n",
                "<tr>\n",
                "<td>>=</td>\n",
                "<td>Si la valeur de l'opérande gauche est supérieure ou égale à la valeur de l'opérande droit, alors la condition devient vraie.</td>\n",
                "<td> (a >= b) n'est pas vrai. </td>\n",
                "</tr>\n",
                "<tr>\n",
                "<td><=</td>\n",
                "<td>Si la valeur de l'opérande gauche est inférieure ou égale à la valeur de l'opérande droit, alors la condition devient vraie.</td>\n",
                "<td> (a <= b) est vrai. </td>\n",
                "</tr>\n",
                "</table>\n"
            ]
        },
        {
            "cell_type": "markdown",
            "metadata": {
                "id": "LDS1culZTzjL"
            },
            "source": [
                "### Opérateurs de comparaison\n"
            ]
        },
        {
            "cell_type": "markdown",
            "metadata": {
                "id": "eUExM8xVTzjM"
            },
            "source": [
                "Attribuons à <code>a</code> la valeur 5. Utilisez l'opérateur d'égalité indiqué par deux signes égal <b>==</b> pour déterminer si deux valeurs sont égales. Le cas ci-dessous compare la variable <code>a</code> avec 6.\n"
            ]
        },
        {
            "cell_type": "code",
            "execution_count": 1,
            "metadata": {
                "id": "yfwCMQdPTzjM"
            },
            "outputs": [
                {
                    "data": {
                        "text/plain": [
                            "False"
                        ]
                    },
                    "execution_count": 1,
                    "metadata": {},
                    "output_type": "execute_result"
                }
            ],
            "source": [
                "# Condition Equal\n",
                "\n",
                "a = 5\n",
                "a == 6"
            ]
        },
        {
            "cell_type": "markdown",
            "metadata": {
                "id": "GgjfRlqPTzjO"
            },
            "source": [
                "Le résultat est <b>Faux</b>, car 5 n'est pas égal à 6.\n"
            ]
        },
        {
            "cell_type": "markdown",
            "metadata": {
                "id": "m2NktMMmTzjO"
            },
            "source": [
                "Considérez l'opérateur de comparaison d'égalité suivant <code>i > 5</code>. Si la valeur de l'opérande de gauche, dans ce cas la variable <b>i</b>, est supérieure à la valeur de l'opérande de droite, dans ce cas 5, alors l'énoncé est <b>True</b>. Sinon, la déclaration est <b>Faux</b>. Si <b>i</b> est égal à 6, car 6 est supérieur à 5, la sortie est <b>True</b>.\n"
            ]
        },
        {
            "cell_type": "code",
            "execution_count": null,
            "metadata": {
                "id": "s4cmdEs8TzjP"
            },
            "outputs": [],
            "source": [
                "# Greater than Sign\n",
                "\n",
                "i = 6\n",
                "i > 5"
            ]
        },
        {
            "cell_type": "markdown",
            "metadata": {
                "id": "CT0xtvzrTzjP"
            },
            "source": [
                "Définissez <code>i = 2</code>. L'énoncé est faux car 2 n'est pas supérieur à 5 :\n"
            ]
        },
        {
            "cell_type": "code",
            "execution_count": null,
            "metadata": {
                "id": "NSoBGz0eTzjQ"
            },
            "outputs": [],
            "source": [
                "# Greater than Sign\n",
                "\n",
                "i = 2\n",
                "i > 5"
            ]
        },
        {
            "cell_type": "markdown",
            "metadata": {
                "id": "lmGkXdAlTzjQ"
            },
            "source": [
                "Affichons quelques valeurs pour <code>i</code> dans la figure. Définissez les valeurs supérieures à 5 en vert et le reste en rouge. La région verte représente l'endroit où la condition est **Vrai**, le rouge où l'énoncé est **Faux**. Si la valeur de <code>i</code> est 2, nous obtenons **False** car le 2 tombe dans la région rouge. De même, si la valeur de <code>i</code> est 6, nous obtenons un **True** car la condition tombe dans la région verte.\n"
            ]
        },
        {
            "cell_type": "markdown",
            "metadata": {
                "id": "UX28JkbPTzjQ"
            },
            "source": [
                "<img src=\"https://s3-api.us-geo.objectstorage.softlayer.net/cf-courses-data/CognitiveClass/PY0101EN/Chapter%203/Images/CondsGreater.gif\" width=\"650\" />\n"
            ]
        },
        {
            "cell_type": "markdown",
            "metadata": {
                "id": "JMrg3kCETzjR"
            },
            "source": [
                "Le test d'inégalité utilise un point d'exclamation précédant le signe égal, si deux opérandes ne sont pas égaux alors la condition devient **True**. Par exemple, la condition suivante produira **True** tant que la valeur de <code>i</code> n'est pas égale à 6 :\n"
            ]
        },
        {
            "cell_type": "code",
            "execution_count": null,
            "metadata": {
                "id": "PYMCwNqCTzjR"
            },
            "outputs": [],
            "source": [
                "# Inequality Sign\n",
                "\n",
                "i = 2\n",
                "i != 6"
            ]
        },
        {
            "cell_type": "markdown",
            "metadata": {
                "id": "-FBLKV3VTzjR"
            },
            "source": [
                "Lorsque <code>i</code> est égal à 6, l'expression d'inégalité produit <b>False</b>.\n"
            ]
        },
        {
            "cell_type": "code",
            "execution_count": null,
            "metadata": {
                "id": "OqXz1Lv_TzjR"
            },
            "outputs": [],
            "source": [
                "# Inequality Sign\n",
                "\n",
                "i = 6\n",
                "i != 6"
            ]
        },
        {
            "cell_type": "markdown",
            "metadata": {
                "id": "5w32CxTyTzjS"
            },
            "source": [
                "Voir la ligne numérique ci-dessous. lorsque la condition est **Vraie**, les numéros correspondants sont marqués en vert et lorsque la condition est **Faux**, le numéro correspondant est marqué en rouge. Si nous définissons <code>i</code> égal à 2, l'opérateur est vrai car 2 est dans la région verte. Si nous définissons <code>i</code> égal à 6, nous obtenons un **Faux** car la condition tombe dans la région rouge.\n"
            ]
        },
        {
            "cell_type": "markdown",
            "metadata": {
                "id": "-9mwAaO-TzjS"
            },
            "source": [
                "<img src=\"https://s3-api.us-geo.objectstorage.softlayer.net/cf-courses-data/CognitiveClass/PY0101EN/Chapter%203/Images/CondsIneq.gif\" width=\"650\" />\n"
            ]
        },
        {
            "cell_type": "markdown",
            "metadata": {
                "id": "_VnY6dFeTzjS"
            },
            "source": [
                "Nous pouvons appliquer les mêmes méthodes sur les chaînes. Par exemple, utilisez un opérateur d'égalité sur deux chaînes différentes. Comme les chaînes ne sont pas égales, nous obtenons un **False**.\n"
            ]
        },
        {
            "cell_type": "code",
            "execution_count": null,
            "metadata": {
                "id": "ws8Th5RbTzjS"
            },
            "outputs": [],
            "source": [
                "# Use Equality sign to compare the strings\n",
                "\n",
                "\"ACDC\" == \"Michael Jackson\""
            ]
        },
        {
            "cell_type": "markdown",
            "metadata": {
                "id": "Gg9rnIyfTzjS"
            },
            "source": [
                "Si nous utilisons l'opérateur d'inégalité, la sortie sera **True** car les chaînes ne sont pas égales.\n"
            ]
        },
        {
            "cell_type": "code",
            "execution_count": 2,
            "metadata": {
                "id": "3rkxneCfTzjT"
            },
            "outputs": [
                {
                    "data": {
                        "text/plain": [
                            "True"
                        ]
                    },
                    "execution_count": 2,
                    "metadata": {},
                    "output_type": "execute_result"
                }
            ],
            "source": [
                "# Use Inequality sign to compare the strings\n",
                "\n",
                "\"ACDC\" != \"Michael Jackson\""
            ]
        },
        {
            "cell_type": "markdown",
            "metadata": {
                "id": "vs97j-q8TzjT"
            },
            "source": [
                "L'opération d'inégalité est également utilisée pour comparer les lettres/mots/symboles selon la valeur ASCII des lettres. La valeur décimale indiquée dans le tableau suivant représente l'ordre du caractère :\n"
            ]
        },
        {
            "cell_type": "markdown",
            "metadata": {
                "id": "RWsFAjPlTzjT"
            },
            "source": [
                "Par exemple, le code ASCII pour <b>!</b> est 21, tandis que le code ASCII pour <b>+</b> est 43. Par conséquent, <b>+</b> est plus grand que <b> ! </b> car 43 est supérieur à 21.\n"
            ]
        },
        {
            "cell_type": "markdown",
            "metadata": {
                "id": "U-BT9jE3TzjT"
            },
            "source": [
                "De même, la valeur de <b>A</b> est 101, et la valeur de <b>B</b> est 102 donc :\n"
            ]
        },
        {
            "cell_type": "code",
            "execution_count": 6,
            "metadata": {
                "id": "T6x86ES6TzjT"
            },
            "outputs": [
                {
                    "data": {
                        "text/plain": [
                            "False"
                        ]
                    },
                    "execution_count": 6,
                    "metadata": {},
                    "output_type": "execute_result"
                }
            ],
            "source": [
                "# Compare characters\n",
                "\n",
                "'B' > 'A' and \"B\" > \"C\""
            ]
        },
        {
            "cell_type": "markdown",
            "metadata": {
                "id": "tPrKVKfxTzjU"
            },
            "source": [
                "Lorsqu'il y a plusieurs lettres, la première lettre prévaut dans l'ordre :\n"
            ]
        },
        {
            "cell_type": "code",
            "execution_count": null,
            "metadata": {
                "id": "ICOZl-aITzjU"
            },
            "outputs": [],
            "source": [
                "# Compare characters\n",
                "\n",
                "'BA' > 'AB'"
            ]
        },
        {
            "cell_type": "markdown",
            "metadata": {
                "id": "ReC1wg5tTzjU"
            },
            "source": [
                "<b>Remarque</b> : les lettres majuscules ont un code ASCII différent des lettres minuscules, ce qui signifie que la comparaison entre les lettres en python est sensible à la casse.\n"
            ]
        },
        {
            "cell_type": "markdown",
            "metadata": {
                "id": "0VBed2C-2fJW"
            },
            "source": [
                "#### Inférieur ou égal à\n"
            ]
        },
        {
            "cell_type": "code",
            "execution_count": null,
            "metadata": {
                "id": "F91CFgWv2fJW",
                "outputId": "3a9b6488-5450-4bca-d18c-ee3569c17bc6"
            },
            "outputs": [
                {
                    "data": {
                        "text/plain": [
                            "True"
                        ]
                    },
                    "execution_count": 11,
                    "metadata": {},
                    "output_type": "execute_result"
                }
            ],
            "source": [
                "2 <= 2"
            ]
        },
        {
            "cell_type": "code",
            "execution_count": null,
            "metadata": {
                "id": "jQAY5XdS2fJX",
                "outputId": "6f5bf439-9d9b-45dd-b342-588d4167d564"
            },
            "outputs": [
                {
                    "data": {
                        "text/plain": [
                            "True"
                        ]
                    },
                    "execution_count": 12,
                    "metadata": {},
                    "output_type": "execute_result"
                }
            ],
            "source": [
                "2 <= 4"
            ]
        },
        {
            "cell_type": "markdown",
            "metadata": {
                "id": "GqJvSleb2fJX"
            },
            "source": [
                "**Super! Passez en revue chaque opérateur de comparaison pour vous assurer que vous comprenez ce que chacun dit. Mais j'espère que cela a été simple pour vous. **\n",
                "\n",
                "Ensuite, nous couvrirons les opérateurs de comparaison chaînés\n"
            ]
        },
        {
            "cell_type": "markdown",
            "metadata": {
                "id": "zATszhSJ2fJW"
            },
            "source": [
                "#### Plus grand ou égal à\n"
            ]
        },
        {
            "cell_type": "code",
            "execution_count": null,
            "metadata": {
                "id": "YJPqM18b2fJW",
                "outputId": "5a27cd2c-32d1-4ec2-9418-d951b7873247"
            },
            "outputs": [
                {
                    "data": {
                        "text/plain": [
                            "True"
                        ]
                    },
                    "execution_count": 9,
                    "metadata": {},
                    "output_type": "execute_result"
                }
            ],
            "source": [
                "2 >= 2"
            ]
        },
        {
            "cell_type": "code",
            "execution_count": null,
            "metadata": {
                "id": "nxu3Q2oa2fJW",
                "outputId": "1e21c164-9166-488e-fb48-2a9b90340d48"
            },
            "outputs": [
                {
                    "data": {
                        "text/plain": [
                            "True"
                        ]
                    },
                    "execution_count": 10,
                    "metadata": {},
                    "output_type": "execute_result"
                }
            ],
            "source": [
                "2 >= 1"
            ]
        },
        {
            "cell_type": "markdown",
            "metadata": {
                "id": "TlYeUINn2fJV"
            },
            "source": [
                "#### Moins que\n"
            ]
        },
        {
            "cell_type": "code",
            "execution_count": null,
            "metadata": {
                "id": "NnpgcdvF2fJV",
                "outputId": "f45b15ab-0667-4de6-91ee-7e542597824c"
            },
            "outputs": [
                {
                    "data": {
                        "text/plain": [
                            "True"
                        ]
                    },
                    "execution_count": 7,
                    "metadata": {},
                    "output_type": "execute_result"
                }
            ],
            "source": [
                "2 < 4"
            ]
        },
        {
            "cell_type": "code",
            "execution_count": null,
            "metadata": {
                "id": "NXBTqkTV2fJV",
                "outputId": "9db18d4f-143d-4112-f75e-0bb141be5771"
            },
            "outputs": [
                {
                    "data": {
                        "text/plain": [
                            "False"
                        ]
                    },
                    "execution_count": 8,
                    "metadata": {},
                    "output_type": "execute_result"
                }
            ],
            "source": [
                "2 < 1"
            ]
        },
        {
            "cell_type": "markdown",
            "metadata": {
                "id": "l2_-R40K2fJS"
            },
            "source": [
                "#### Plus grand que\n"
            ]
        },
        {
            "cell_type": "code",
            "execution_count": null,
            "metadata": {
                "id": "Gfk3FkxA2fJS",
                "outputId": "02e3e293-539c-44d4-e7d8-e0ef4eca0116"
            },
            "outputs": [
                {
                    "data": {
                        "text/plain": [
                            "True"
                        ]
                    },
                    "execution_count": 5,
                    "metadata": {},
                    "output_type": "execute_result"
                }
            ],
            "source": [
                "2 > 1"
            ]
        },
        {
            "cell_type": "code",
            "execution_count": null,
            "metadata": {
                "id": "V8CcmEn72fJT",
                "outputId": "c028decd-5fc7-458e-acd0-0e6ad924f400"
            },
            "outputs": [
                {
                    "data": {
                        "text/plain": [
                            "False"
                        ]
                    },
                    "execution_count": 6,
                    "metadata": {},
                    "output_type": "execute_result"
                }
            ],
            "source": [
                "2 > 4"
            ]
        },
        {
            "cell_type": "markdown",
            "metadata": {
                "id": "wyxUPi3S2fJQ"
            },
            "source": [
                "#### Inégal\n"
            ]
        },
        {
            "cell_type": "code",
            "execution_count": null,
            "metadata": {
                "id": "E1oaNIye2fJR",
                "outputId": "0ae774ce-2444-4091-e179-a504ab2a0f3a"
            },
            "outputs": [
                {
                    "data": {
                        "text/plain": [
                            "True"
                        ]
                    },
                    "execution_count": 3,
                    "metadata": {},
                    "output_type": "execute_result"
                }
            ],
            "source": [
                "2 != 1"
            ]
        },
        {
            "cell_type": "code",
            "execution_count": null,
            "metadata": {
                "id": "5o5KhBDP2fJS",
                "outputId": "339a101c-dcff-40dc-ca90-64f3e5f1702d"
            },
            "outputs": [
                {
                    "data": {
                        "text/plain": [
                            "False"
                        ]
                    },
                    "execution_count": 4,
                    "metadata": {},
                    "output_type": "execute_result"
                }
            ],
            "source": [
                "2 != 2"
            ]
        },
        {
            "cell_type": "markdown",
            "metadata": {
                "id": "0lDxdYhy2fJJ"
            },
            "source": [
                "Passons maintenant à des exemples rapides de chacun d'entre eux.\n",
                "\n",
                "#### Égal\n"
            ]
        },
        {
            "cell_type": "code",
            "execution_count": null,
            "metadata": {
                "id": "3w2uP3ol2fJK",
                "outputId": "4c095a4c-452a-4459-d5ba-df04e66841a1"
            },
            "outputs": [
                {
                    "data": {
                        "text/plain": [
                            "True"
                        ]
                    },
                    "execution_count": 1,
                    "metadata": {},
                    "output_type": "execute_result"
                }
            ],
            "source": [
                "2 == 2"
            ]
        },
        {
            "cell_type": "code",
            "execution_count": null,
            "metadata": {
                "id": "AlVGgyYA2fJK",
                "outputId": "02bec6c2-aca2-4b1c-aaef-4275f8d87bc5"
            },
            "outputs": [
                {
                    "data": {
                        "text/plain": [
                            "False"
                        ]
                    },
                    "execution_count": 2,
                    "metadata": {},
                    "output_type": "execute_result"
                }
            ],
            "source": [
                "1 == 0"
            ]
        },
        {
            "cell_type": "markdown",
            "metadata": {
                "id": "zPkgVmkd2fJQ"
            },
            "source": [
                "Notez que <code>==</code> est un opérateur de <em>comparaison</em>, tandis que <code>=</code> est un opérateur d'<em>affectation</em>.\n"
            ]
        }
    ],
    "metadata": {
        "kernelspec": {
            "display_name": "Python 3",
            "language": "python",
            "name": "python3"
        },
        "language_info": {
            "codemirror_mode": {
                "name": "ipython",
                "version": 3
            },
            "file_extension": ".py",
            "mimetype": "text/x-python",
            "name": "python",
            "nbconvert_exporter": "python",
            "pygments_lexer": "ipython3",
            "version": "3.7.9 (tags/v3.7.9:13c94747c7, Aug 17 2020, 18:58:18) [MSC v.1900 64 bit (AMD64)]"
        },
        "vscode": {
            "interpreter": {
                "hash": "548955215833c5cef9ca446febdbcd3f517025cd8f72e3f026c8858cebd051b9"
            }
        }
    },
    "nbformat": 4,
    "nbformat_minor": 0
}
