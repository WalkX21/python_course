{
    "cells": [
        {
            "cell_type": "markdown",
            "metadata": {
                "colab_type": "text",
                "id": "view-in-github"
            },
            "source": [
                "<a href=\"https://colab.research.google.com/github/yahia-kplr/Fondamentaux-Python_fr/blob/main/Jour_02/07-Chained_Comparison_Operators.ipynb\" target=\"_blank\"><img src=\"https://colab.research.google.com/assets/colab-badge.svg\" alt=\"Open In Colab\"/></a>"
            ]
        },
        {
            "cell_type": "markdown",
            "metadata": {
                "id": "Z8SHHclLTzjY"
            },
            "source": [
                "## Opérateurs logiques\n"
            ]
        },
        {
            "cell_type": "markdown",
            "metadata": {
                "id": "P3IiCyCCTzjY"
            },
            "source": [
                "\n",
                "Parfois, vous souhaitez vérifier plusieurs conditions à la fois. Par exemple, vous voudrez peut-être vérifier si une condition et une autre condition sont **Vraies**. Les opérateurs logiques permettent de combiner ou de modifier des conditions.\n",
                "<ul>\n",
                "<li><code>et</code></li>\n",
                "<li><code>ou</code></li>\n",
                "<li><code>non</code></li>\n",
                "</ul>\n",
                "\n",
                "Ces opérateurs sont résumés pour deux variables à l'aide des tables de vérité suivantes :\n"
            ]
        },
        {
            "cell_type": "markdown",
            "metadata": {
                "id": "50mBryOcTzjZ"
            },
            "source": [
                "<img src=\"https://s3-api.us-geo.objectstorage.softlayer.net/cf-courses-data/CognitiveClass/PY0101EN/Chapter%203/Images/CondsTable.png\" width=\"650\" />\n"
            ]
        },
        {
            "cell_type": "markdown",
            "metadata": {
                "id": "DPoTVLWwTzja"
            },
            "source": [
                "L'instruction <code>and</code> est uniquement **True** lorsque les deux conditions sont vraies. L'instruction <code>or</code> est vraie si une condition est **True**. L'instruction <code>not</code> génère la valeur de vérité opposée.\n"
            ]
        },
        {
            "cell_type": "markdown",
            "metadata": {
                "id": "tgrsVeYyTzja"
            },
            "source": [
                "Voyons comment déterminer si un album est sorti après 1979 (1979 n'est pas inclus) et avant 1990 (1990 n'est pas inclus). Les périodes comprises entre 1980 et 1989 satisfont à cette condition. Ceci est démontré dans la figure ci-dessous. Le vert sur les lignes <strong>a</strong> et <strong>b</strong> représente les périodes où l'énoncé est **Vrai**. Le vert sur la ligne <strong>c</strong> représente l'endroit où les deux conditions sont **Vrai**, cela correspond à l'endroit où les régions vertes se chevauchent.\n",
                "\n"
            ]
        },
        {
            "cell_type": "markdown",
            "metadata": {
                "id": "P319s_4VTzja"
            },
            "source": [
                "<img src=\"https://s3-api.us-geo.objectstorage.softlayer.net/cf-courses-data/CognitiveClass/PY0101EN/Chapter%203/Images/CondsEgOne.png\" width=\"650\" />\n"
            ]
        },
        {
            "cell_type": "markdown",
            "metadata": {
                "id": "qlRLmxNETzja"
            },
            "source": [
                "Le bloc de code pour effectuer cette vérification est donné par :\n"
            ]
        },
        {
            "cell_type": "code",
            "execution_count": 3,
            "metadata": {
                "id": "Dp3rYbA9Tzja"
            },
            "outputs": [
                {
                    "ename": "KeyboardInterrupt",
                    "evalue": "Interrupted by user",
                    "output_type": "error",
                    "traceback": [
                        "\u001b[1;31m---------------------------------------------------------------------------\u001b[0m",
                        "\u001b[1;31mKeyboardInterrupt\u001b[0m                         Traceback (most recent call last)",
                        "\u001b[1;32m~\\AppData\\Local\\Temp\\ipykernel_6792\\3919741978.py\u001b[0m in \u001b[0;36m<module>\u001b[1;34m\u001b[0m\n\u001b[1;32m----> 1\u001b[1;33m \u001b[0malbum_year\u001b[0m \u001b[1;33m=\u001b[0m \u001b[0mint\u001b[0m\u001b[1;33m(\u001b[0m\u001b[0minput\u001b[0m\u001b[1;33m(\u001b[0m\u001b[1;34m'Album year :'\u001b[0m\u001b[1;33m)\u001b[0m\u001b[1;33m)\u001b[0m\u001b[1;33m\u001b[0m\u001b[1;33m\u001b[0m\u001b[0m\n\u001b[0m\u001b[0;32m      2\u001b[0m \u001b[1;33m\u001b[0m\u001b[0m\n\u001b[0;32m      3\u001b[0m \u001b[0mresult\u001b[0m \u001b[1;33m=\u001b[0m \u001b[1;33m(\u001b[0m\u001b[0malbum_year\u001b[0m \u001b[1;33m>\u001b[0m \u001b[1;36m1979\u001b[0m\u001b[1;33m)\u001b[0m \u001b[1;32mand\u001b[0m \u001b[1;33m(\u001b[0m\u001b[0malbum_year\u001b[0m \u001b[1;33m<\u001b[0m \u001b[1;36m1990\u001b[0m\u001b[1;33m)\u001b[0m\u001b[1;33m\u001b[0m\u001b[1;33m\u001b[0m\u001b[0m\n\u001b[0;32m      4\u001b[0m \u001b[0mprint\u001b[0m\u001b[1;33m(\u001b[0m\u001b[0mresult\u001b[0m\u001b[1;33m)\u001b[0m\u001b[1;33m\u001b[0m\u001b[1;33m\u001b[0m\u001b[0m\n",
                        "\u001b[1;32m~\\AppData\\Roaming\\Python\\Python37\\site-packages\\ipykernel\\kernelbase.py\u001b[0m in \u001b[0;36mraw_input\u001b[1;34m(self, prompt)\u001b[0m\n\u001b[0;32m   1179\u001b[0m             \u001b[0mself\u001b[0m\u001b[1;33m.\u001b[0m\u001b[0m_parent_ident\u001b[0m\u001b[1;33m[\u001b[0m\u001b[1;34m\"shell\"\u001b[0m\u001b[1;33m]\u001b[0m\u001b[1;33m,\u001b[0m\u001b[1;33m\u001b[0m\u001b[1;33m\u001b[0m\u001b[0m\n\u001b[0;32m   1180\u001b[0m             \u001b[0mself\u001b[0m\u001b[1;33m.\u001b[0m\u001b[0mget_parent\u001b[0m\u001b[1;33m(\u001b[0m\u001b[1;34m\"shell\"\u001b[0m\u001b[1;33m)\u001b[0m\u001b[1;33m,\u001b[0m\u001b[1;33m\u001b[0m\u001b[1;33m\u001b[0m\u001b[0m\n\u001b[1;32m-> 1181\u001b[1;33m             \u001b[0mpassword\u001b[0m\u001b[1;33m=\u001b[0m\u001b[1;32mFalse\u001b[0m\u001b[1;33m,\u001b[0m\u001b[1;33m\u001b[0m\u001b[1;33m\u001b[0m\u001b[0m\n\u001b[0m\u001b[0;32m   1182\u001b[0m         )\n\u001b[0;32m   1183\u001b[0m \u001b[1;33m\u001b[0m\u001b[0m\n",
                        "\u001b[1;32m~\\AppData\\Roaming\\Python\\Python37\\site-packages\\ipykernel\\kernelbase.py\u001b[0m in \u001b[0;36m_input_request\u001b[1;34m(self, prompt, ident, parent, password)\u001b[0m\n\u001b[0;32m   1217\u001b[0m             \u001b[1;32mexcept\u001b[0m \u001b[0mKeyboardInterrupt\u001b[0m\u001b[1;33m:\u001b[0m\u001b[1;33m\u001b[0m\u001b[1;33m\u001b[0m\u001b[0m\n\u001b[0;32m   1218\u001b[0m                 \u001b[1;31m# re-raise KeyboardInterrupt, to truncate traceback\u001b[0m\u001b[1;33m\u001b[0m\u001b[1;33m\u001b[0m\u001b[1;33m\u001b[0m\u001b[0m\n\u001b[1;32m-> 1219\u001b[1;33m                 \u001b[1;32mraise\u001b[0m \u001b[0mKeyboardInterrupt\u001b[0m\u001b[1;33m(\u001b[0m\u001b[1;34m\"Interrupted by user\"\u001b[0m\u001b[1;33m)\u001b[0m \u001b[1;32mfrom\u001b[0m \u001b[1;32mNone\u001b[0m\u001b[1;33m\u001b[0m\u001b[1;33m\u001b[0m\u001b[0m\n\u001b[0m\u001b[0;32m   1220\u001b[0m             \u001b[1;32mexcept\u001b[0m \u001b[0mException\u001b[0m\u001b[1;33m:\u001b[0m\u001b[1;33m\u001b[0m\u001b[1;33m\u001b[0m\u001b[0m\n\u001b[0;32m   1221\u001b[0m                 \u001b[0mself\u001b[0m\u001b[1;33m.\u001b[0m\u001b[0mlog\u001b[0m\u001b[1;33m.\u001b[0m\u001b[0mwarning\u001b[0m\u001b[1;33m(\u001b[0m\u001b[1;34m\"Invalid Message:\"\u001b[0m\u001b[1;33m,\u001b[0m \u001b[0mexc_info\u001b[0m\u001b[1;33m=\u001b[0m\u001b[1;32mTrue\u001b[0m\u001b[1;33m)\u001b[0m\u001b[1;33m\u001b[0m\u001b[1;33m\u001b[0m\u001b[0m\n",
                        "\u001b[1;31mKeyboardInterrupt\u001b[0m: Interrupted by user"
                    ]
                }
            ],
            "source": [
                "\n",
                "album_year = int(input('Album year :'))\n",
                "\n",
                "result = (album_year > 1979) and (album_year < 1990)\n",
                "print(result)"
            ]
        },
        {
            "cell_type": "markdown",
            "metadata": {
                "id": "7VuxLZx0Tzja"
            },
            "source": [
                "Pour déterminer si un album est sorti avant 1980 (~ - 1979) ou après 1989 (1990 - ~), une instruction **ou** peut être utilisée. Les périodes antérieures à 1980 (~ - 1979) ou postérieures à 1989 (1990 - ~) satisfont à cette condition. Ceci est démontré dans la figure suivante, la couleur verte dans <strong>a</strong> et <strong>b</strong> représente les périodes où l'énoncé est vrai. La couleur verte dans **c** représente où au moins une des conditions\n",
                "sont vrai.\n"
            ]
        },
        {
            "cell_type": "markdown",
            "metadata": {
                "id": "2ixUCld2Tzjb"
            },
            "source": [
                "<img src=\"https://s3-api.us-geo.objectstorage.softlayer.net/cf-courses-data/CognitiveClass/PY0101EN/Chapter%203/Images/CondsEgTwo.png\" width=\"650\" />\n"
            ]
        },
        {
            "cell_type": "markdown",
            "metadata": {
                "id": "-j4rd8ExTzjc"
            },
            "source": [
                "<h>\n"
            ]
        }
    ],
    "metadata": {
        "kernelspec": {
            "display_name": "Python 3",
            "language": "python",
            "name": "python3"
        },
        "language_info": {
            "codemirror_mode": {
                "name": "ipython",
                "version": 3
            },
            "file_extension": ".py",
            "mimetype": "text/x-python",
            "name": "python",
            "nbconvert_exporter": "python",
            "pygments_lexer": "ipython3",
            "version": "3.7.9 (tags/v3.7.9:13c94747c7, Aug 17 2020, 18:58:18) [MSC v.1900 64 bit (AMD64)]"
        },
        "vscode": {
            "interpreter": {
                "hash": "548955215833c5cef9ca446febdbcd3f517025cd8f72e3f026c8858cebd051b9"
            }
        }
    },
    "nbformat": 4,
    "nbformat_minor": 0
}
