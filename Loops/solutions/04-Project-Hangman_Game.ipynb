{
    "cells": [
        {
            "attachments": {},
            "cell_type": "markdown",
            "metadata": {
                "colab_type": "text",
                "id": "view-in-github"
            },
            "source": [
                "<a href=\"https://colab.research.google.com/github/yahia-kplr/Fondamentaux-Python_fr/blob/main/Jour_03/projet/solution/04-Project-Hangman_Game.ipynb\" target=\"_blank\"><img src=\"https://colab.research.google.com/assets/colab-badge.svg\" alt=\"Open In Colab\"/></a>"
            ]
        },
        {
            "attachments": {},
            "cell_type": "markdown",
            "id": "66954589",
            "metadata": {},
            "source": [
                "# Projet - Jeu du Pendu\n",
                "### Mais\n",
                "- Créer un [jeu du pendu](https://en.wikipedia.org/wiki/Hangman_(game))\n"
            ]
        },
        {
            "cell_type": "code",
            "execution_count": null,
            "id": "06720706",
            "metadata": {},
            "outputs": [],
            "source": []
        },
        {
            "attachments": {},
            "cell_type": "markdown",
            "id": "268c1f42",
            "metadata": {},
            "source": [
                "### Description\n",
                "- Le jeu est le suivant.\n",
                "- L'ordinateur a une liste de mots.\n",
                "- L'ordinateur choisit un mot au hasard dans la liste.\n",
                "- Le joueur obtient 10 mauvaises suppositions (10 tours).\n",
                "- Le jeu suit cette boucle\n",
                "- L'ordinateur imprime le mot caractère par caractère en remplaçant par un trait de soulignement ceux qui n'ont pas encore été devinés (aucun caractère initial n'a été deviné).\n",
                "- Le joueur devine un personnage.\n",
                "- Si le personnage n'est pas dans le mot, un tour est retiré\n",
                "- S'il ne reste plus de tours, l'ordinateur gagne.\n",
                "- Si le joueur a deviné tous les personnages, le joueur gagne\n",
                "- Une première liste de mots pourrait être : ['père', 'entreprise', 'science', 'programmation', 'résistance', 'fiction', 'condition', 'inverse', 'ordinateur', 'python']\n"
            ]
        },
        {
            "cell_type": "code",
            "execution_count": 1,
            "id": "df39d880",
            "metadata": {},
            "outputs": [],
            "source": [
                "import random"
            ]
        },
        {
            "cell_type": "code",
            "execution_count": 3,
            "id": "f7b4c248",
            "metadata": {},
            "outputs": [
                {
                    "name": "stdout",
                    "output_type": "stream",
                    "text": [
                        "You have 10 turns left\n",
                        "_ _ _ _ _ _ _ \n",
                        "You have 9 turns left\n",
                        "_ _ _ _ _ _ _ \n",
                        "You have 8 turns left\n",
                        "_ _ _ _ _ _ _ \n",
                        "You have 7 turns left\n",
                        "_ _ _ _ _ _ _ \n",
                        "You have 6 turns left\n",
                        "_ _ _ _ _ _ _ \n",
                        "You have 5 turns left\n",
                        "_ _ _ _ _ _ _ \n",
                        "You have 4 turns left\n",
                        "_ _ _ _ _ _ _ \n",
                        "You have 4 turns left\n",
                        "_ _ _ e\n",
                        "_ _ e\n",
                        "\n",
                        "You have 4 turns left\n",
                        "_ _ i\n",
                        "e\n",
                        "_ _ e\n",
                        "\n",
                        "You have 3 turns left\n",
                        "s\n",
                        "_ i\n",
                        "e\n",
                        "_ _ e\n",
                        "\n",
                        "You have 3 turns left\n",
                        "s\n",
                        "c\n",
                        "i\n",
                        "e\n",
                        "n\n",
                        "c\n",
                        "e\n",
                        "\n"
                    ]
                }
            ],
            "source": [
                "words = ['father', 'enterprise', 'science', 'programming', 'resistance', 'fiction', 'condition', 'reverse', 'computer', 'python']\n",
                "word = random.choice(words)\n",
                "\n",
                "guesses = ''\n",
                "\n",
                "turns = 10\n",
                "\n",
                "while turns > 0:\n",
                "    print(f\"You have {turns} turns left\")\n",
                "\n",
                "    guessed_all = True\n",
                "    for c in word:\n",
                "        if c in guesses:\n",
                "            print(c)\n",
                "        else:\n",
                "            print('_', end=' ')\n",
                "            guessed_all = False\n",
                "    print()\n",
                "\n",
                "    if not guessed_all:\n",
                "        guess = input(\"Guess a char: \")\n",
                "        guesses = guesses + guess\n",
                "        if guess not in word:\n",
                "            turns = turns - 1\n",
                "    else:\n",
                "        turns = 0\n",
                "\n",
                "\n",
                "#Objectif final, rajouter turtle"
            ]
        }
    ],
    "metadata": {
        "kernelspec": {
            "display_name": "Python 3",
            "language": "python",
            "name": "python3"
        },
        "language_info": {
            "codemirror_mode": {
                "name": "ipython",
                "version": 3
            },
            "file_extension": ".py",
            "mimetype": "text/x-python",
            "name": "python",
            "nbconvert_exporter": "python",
            "pygments_lexer": "ipython3",
            "version": "3.10.4"
        },
        "vscode": {
            "interpreter": {
                "hash": "9fedf123aa532497912d939029aac71791b23fba076af1a3c1eebd0e739bf47a"
            }
        }
    },
    "nbformat": 4,
    "nbformat_minor": 5
}
