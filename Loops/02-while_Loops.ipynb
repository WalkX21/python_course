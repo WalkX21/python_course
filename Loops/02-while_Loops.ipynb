{
    "cells": [
        {
            "cell_type": "markdown",
            "metadata": {
                "colab_type": "text",
                "id": "view-in-github"
            },
            "source": [
                "<a href=\"https://colab.research.google.com/github/yahia-kplr/Fondamentaux-Python_fr/blob/main/Jour_03/02-while_Loops.ipynb\" target=\"_blank\"><img src=\"https://colab.research.google.com/assets/colab-badge.svg\" alt=\"Open In Colab\"/></a>"
            ]
        },
        {
            "cell_type": "markdown",
            "metadata": {
                "collapsed": true,
                "id": "X1hqkZlKC9QL"
            },
            "source": [
                "# boucles while\n",
                "\n",
                "L'instruction <code>while</code> en Python est l'un des moyens les plus généraux d'effectuer une itération. Une instruction <code>while</code> exécutera de manière répétée une seule instruction ou un groupe d'instructions tant que la condition est vraie. La raison pour laquelle on l'appelle une \"boucle\" est que les instructions de code sont répétées en boucle jusqu'à ce que la condition ne soit plus remplie.\n",
                "\n",
                "Le format général d'une boucle while est :\n",
                "\n",
                "pendant l'essai :\n",
                "instructions de code\n",
                "autre:\n",
                "déclarations de code finales\n",
                "\n",
                "Regardons quelques boucles <code>while</code> simples en action.\n"
            ]
        },
        {
            "cell_type": "markdown",
            "metadata": {
                "id": "X_skRSktZSTf"
            },
            "source": [
                "Comme vous pouvez le voir, la boucle <code>for</code> est utilisée pour un flux contrôlé de répétition. Cependant, que se passe-t-il si nous ne savons pas quand nous voulons arrêter la boucle ? Et si nous voulons continuer à exécuter un bloc de code jusqu'à ce qu'une certaine condition soit remplie ? La boucle <code>while</code> existe en tant qu'outil pour une exécution répétée basée sur une condition. Le bloc de code continuera à être exécuté jusqu'à ce que la condition logique donnée renvoie une valeur booléenne **False**.\n"
            ]
        },
        {
            "cell_type": "markdown",
            "metadata": {
                "id": "M5Fg-4IuZSTf"
            },
            "source": [
                "Disons que nous aimerions parcourir la liste <code>dates</code> et nous arrêter à l'année 1973, puis imprimer le nombre d'itérations. Cela peut être fait avec le bloc de code suivant :\n"
            ]
        },
        {
            "cell_type": "code",
            "execution_count": null,
            "metadata": {
                "id": "_9HclEaSZSTf"
            },
            "outputs": [],
            "source": [
                "# While Loop Example\n",
                "\n",
                "dates = [1982, 1980, 1973, 2000]\n",
                "\n",
                "i = 0\n",
                "year = 0\n",
                "\n",
                "while(year != 1973):\n",
                "    year = dates[i]\n",
                "    i = i + 1\n",
                "    print(year)\n",
                "\n",
                "print(\"It took \", i ,\"repetitions to get out of loop.\")"
            ]
        },
        {
            "cell_type": "markdown",
            "metadata": {
                "id": "donK0PdJZSTg"
            },
            "source": [
                "Une boucle while effectue une itération jusqu'à ce que la condition de l'argument ne soit pas remplie, comme illustré dans la figure suivante :\n"
            ]
        },
        {
            "cell_type": "markdown",
            "metadata": {
                "id": "p7v0MiwIZSTg"
            },
            "source": [
                "<img src=\"https://s3-api.us-geo.objectstorage.softlayer.net/cf-courses-data/CognitiveClass/PY0101EN/Chapter%203/Images/LoopsWhile.gif\" width=\"650\" />\n"
            ]
        },
        {
            "cell_type": "markdown",
            "metadata": {
                "id": "E0WDKmcMZSTg"
            },
            "source": [
                "<h>\n"
            ]
        },
        {
            "cell_type": "markdown",
            "metadata": {
                "id": "9M7q8N6pC9QO"
            },
            "source": [
                "Remarquez combien de fois les instructions d'impression se sont produites et comment la boucle <code>while</code> a continué jusqu'à ce que la condition True soit remplie, ce qui s'est produit une fois x==10. Il est important de noter qu'une fois que cela s'est produit, le code s'est arrêté. Voyons comment ajouter une instruction <code>else</code> :\n"
            ]
        },
        {
            "cell_type": "code",
            "execution_count": null,
            "metadata": {
                "id": "izSjDRq6C9QP",
                "outputId": "b130ecb7-6d72-4aeb-d382-70064e5b21c2"
            },
            "outputs": [
                {
                    "name": "stdout",
                    "output_type": "stream",
                    "text": [
                        "x is currently:  0\n",
                        " x is still less than 10, adding 1 to x\n",
                        "x is currently:  1\n",
                        " x is still less than 10, adding 1 to x\n",
                        "x is currently:  2\n",
                        " x is still less than 10, adding 1 to x\n",
                        "x is currently:  3\n",
                        " x is still less than 10, adding 1 to x\n",
                        "x is currently:  4\n",
                        " x is still less than 10, adding 1 to x\n",
                        "x is currently:  5\n",
                        " x is still less than 10, adding 1 to x\n",
                        "x is currently:  6\n",
                        " x is still less than 10, adding 1 to x\n",
                        "x is currently:  7\n",
                        " x is still less than 10, adding 1 to x\n",
                        "x is currently:  8\n",
                        " x is still less than 10, adding 1 to x\n",
                        "x is currently:  9\n",
                        " x is still less than 10, adding 1 to x\n",
                        "All Done!\n"
                    ]
                }
            ],
            "source": [
                "x = 0\n",
                "\n",
                "while x < 10:\n",
                "    print('x is currently: ',x)\n",
                "    print(' x is still less than 10, adding 1 to x')\n",
                "    x+=1\n",
                "    \n",
                "else:\n",
                "    print('All Done!')"
            ]
        },
        {
            "cell_type": "code",
            "execution_count": null,
            "metadata": {
                "id": "cIDUQaSSC9QN",
                "outputId": "26bc9c2a-5924-4b9c-c494-f4ec0acb8691"
            },
            "outputs": [
                {
                    "name": "stdout",
                    "output_type": "stream",
                    "text": [
                        "x is currently:  0\n",
                        " x is still less than 10, adding 1 to x\n",
                        "x is currently:  1\n",
                        " x is still less than 10, adding 1 to x\n",
                        "x is currently:  2\n",
                        " x is still less than 10, adding 1 to x\n",
                        "x is currently:  3\n",
                        " x is still less than 10, adding 1 to x\n",
                        "x is currently:  4\n",
                        " x is still less than 10, adding 1 to x\n",
                        "x is currently:  5\n",
                        " x is still less than 10, adding 1 to x\n",
                        "x is currently:  6\n",
                        " x is still less than 10, adding 1 to x\n",
                        "x is currently:  7\n",
                        " x is still less than 10, adding 1 to x\n",
                        "x is currently:  8\n",
                        " x is still less than 10, adding 1 to x\n",
                        "x is currently:  9\n",
                        " x is still less than 10, adding 1 to x\n"
                    ]
                }
            ],
            "source": [
                "x = 0\n",
                "\n",
                "while x < 10:\n",
                "    print('x is currently: ',x)\n",
                "    print(' x is still less than 10, adding 1 to x')\n",
                "    x+=1"
            ]
        },
        {
            "cell_type": "markdown",
            "metadata": {
                "id": "MwLyS-JiC9QP"
            },
            "source": [
                "# pause, continuer, passer\n",
                "\n",
                "Nous pouvons utiliser les instructions <code>break</code>, <code>continue</code> et <code>pass</code> dans nos boucles pour ajouter des fonctionnalités supplémentaires dans divers cas. Les trois énoncés sont définis par :\n",
                "\n",
                "break : sort de la boucle englobante la plus proche actuelle.\n",
                "continue : va au début de la boucle englobante la plus proche.\n",
                "pass : ne fait rien du tout.\n",
                "\n",
                "\n",
                "En pensant aux instructions <code>break</code> et <code>continue</code>, le format général de la boucle <code>while</code> ressemble à ceci :\n",
                "\n",
                "pendant l'essai :\n",
                "déclaration de code\n",
                "si essai :\n",
                "casser\n",
                "si essai :\n",
                "continuer\n",
                "autre:\n",
                "\n",
                "Les instructions <code>break</code> et <code>continue</code> peuvent apparaître n'importe où dans le corps de la boucle, mais nous les placerons généralement plus imbriquées en conjonction avec une instruction <code>if</code> pour effectuer une action basée sur une condition.\n",
                "\n",
                "Allons-y et regardons quelques exemples !\n"
            ]
        },
        {
            "cell_type": "code",
            "execution_count": null,
            "metadata": {
                "id": "ZySw8I-UC9QQ",
                "outputId": "5f330db3-1693-4e06-ecb0-132f33f9ee0e"
            },
            "outputs": [
                {
                    "name": "stdout",
                    "output_type": "stream",
                    "text": [
                        "x is currently:  0\n",
                        " x is still less than 10, adding 1 to x\n",
                        "continuing...\n",
                        "x is currently:  1\n",
                        " x is still less than 10, adding 1 to x\n",
                        "continuing...\n",
                        "x is currently:  2\n",
                        " x is still less than 10, adding 1 to x\n",
                        "x==3\n",
                        "x is currently:  3\n",
                        " x is still less than 10, adding 1 to x\n",
                        "continuing...\n",
                        "x is currently:  4\n",
                        " x is still less than 10, adding 1 to x\n",
                        "continuing...\n",
                        "x is currently:  5\n",
                        " x is still less than 10, adding 1 to x\n",
                        "continuing...\n",
                        "x is currently:  6\n",
                        " x is still less than 10, adding 1 to x\n",
                        "continuing...\n",
                        "x is currently:  7\n",
                        " x is still less than 10, adding 1 to x\n",
                        "continuing...\n",
                        "x is currently:  8\n",
                        " x is still less than 10, adding 1 to x\n",
                        "continuing...\n",
                        "x is currently:  9\n",
                        " x is still less than 10, adding 1 to x\n",
                        "continuing...\n"
                    ]
                }
            ],
            "source": [
                "x = 0\n",
                "\n",
                "while x < 10:\n",
                "    print('x is currently: ',x)\n",
                "    print(' x is still less than 10, adding 1 to x')\n",
                "    x+=1\n",
                "    if x==3:\n",
                "        print('x==3')\n",
                "    else:\n",
                "        print('continuing...')\n",
                "        continue"
            ]
        },
        {
            "cell_type": "markdown",
            "metadata": {
                "id": "G3A_LgAUC9QR"
            },
            "source": [
                "Notez comment nous avons une instruction imprimée lorsque x==3, et un continue imprimé alors que nous continuons dans la boucle while externe. Faisons une pause une fois x ==3 et voyons si le résultat a du sens :\n"
            ]
        },
        {
            "cell_type": "code",
            "execution_count": null,
            "metadata": {
                "id": "0T5OwfQgC9QS",
                "outputId": "bb099223-e826-49a9-fd78-9a2dd4a95a01"
            },
            "outputs": [
                {
                    "name": "stdout",
                    "output_type": "stream",
                    "text": [
                        "x is currently:  0\n",
                        " x is still less than 10, adding 1 to x\n",
                        "continuing...\n",
                        "x is currently:  1\n",
                        " x is still less than 10, adding 1 to x\n",
                        "continuing...\n",
                        "x is currently:  2\n",
                        " x is still less than 10, adding 1 to x\n",
                        "Breaking because x==3\n"
                    ]
                }
            ],
            "source": [
                "x = 0\n",
                "\n",
                "while x < 10:\n",
                "    print('x is currently: ',x)\n",
                "    print(' x is still less than 10, adding 1 to x')\n",
                "    x+=1\n",
                "    if x==3:\n",
                "        print('Breaking because x==3')\n",
                "        break\n",
                "    else:\n",
                "        print('continuing...')\n",
                "        continue"
            ]
        },
        {
            "cell_type": "markdown",
            "metadata": {
                "id": "Vv_b9a5UC9QT"
            },
            "source": [
                "Notez que l'autre instruction <code>else</code> n'a pas été atteinte et que continuer n'a jamais été imprimé !\n",
                "\n",
                "Après ces exemples brefs mais simples, vous devriez vous sentir à l'aise avec les instructions <code>while</code> dans votre code.\n",
                "\n",
                "**Un mot d'avertissement cependant! Il est possible de créer une boucle s'exécutant à l'infini avec des instructions <code>while</code>. Par exemple:**\n"
            ]
        },
        {
            "cell_type": "code",
            "execution_count": null,
            "metadata": {
                "collapsed": true,
                "id": "E2s1C9KmC9QT"
            },
            "outputs": [],
            "source": [
                "# DO NOT RUN THIS CODE!!!! \n",
                "while True:\n",
                "    print(\"I'm stuck in an infinite loop!\")"
            ]
        },
        {
            "cell_type": "markdown",
            "metadata": {
                "collapsed": true,
                "id": "5nVxGH96C9QU"
            },
            "source": [
                "Une note rapide : si vous avez *exécuté* la cellule ci-dessus, cliquez sur le menu Kernel ci-dessus pour redémarrer le noyau !\n"
            ]
        }
    ],
    "metadata": {
        "kernelspec": {
            "display_name": "Python 3",
            "language": "python",
            "name": "python3"
        },
        "language_info": {
            "codemirror_mode": {
                "name": "ipython",
                "version": 3
            },
            "file_extension": ".py",
            "mimetype": "text/x-python",
            "name": "python",
            "nbconvert_exporter": "python",
            "pygments_lexer": "ipython3",
            "version": "3.7.9 (tags/v3.7.9:13c94747c7, Aug 17 2020, 18:58:18) [MSC v.1900 64 bit (AMD64)]"
        },
        "vscode": {
            "interpreter": {
                "hash": "548955215833c5cef9ca446febdbcd3f517025cd8f72e3f026c8858cebd051b9"
            }
        }
    },
    "nbformat": 4,
    "nbformat_minor": 0
}
