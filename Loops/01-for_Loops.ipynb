{
    "cells": [
        {
            "cell_type": "markdown",
            "metadata": {
                "colab_type": "text",
                "id": "view-in-github"
            },
            "source": [
                "<a href=\"https://colab.research.google.com/github/yahia-kplr/Fondamentaux-Python_fr/blob/main/Jour_03/01-for_Loops.ipynb\" target=\"_blank\"><img src=\"https://colab.research.google.com/assets/colab-badge.svg\" alt=\"Open In Colab\"/></a>"
            ]
        },
        {
            "cell_type": "markdown",
            "metadata": {
                "id": "2MD2Kk6WZSTY"
            },
            "source": [
                "# Gamme\n"
            ]
        },
        {
            "cell_type": "markdown",
            "metadata": {
                "id": "q_5Mfk8SZSTZ"
            },
            "source": [
                "Parfois, vous voudrez peut-être répéter une opération donnée plusieurs fois. Des exécutions répétées comme celle-ci sont effectuées par des <b>boucles</b>. Nous examinerons deux types de boucles, les boucles <code>for</code> et les boucles <code>while</code>.\n",
                "\n",
                "Avant de discuter des boucles, parlons de l'objet <code>range</code>. Il est utile de considérer l'objet range comme une liste ordonnée. Pour l'instant, regardons le cas le plus simple. Si nous souhaitons générer une séquence contenant trois éléments ordonnés de 0 à 2, nous utilisons simplement la commande suivante :\n"
            ]
        },
        {
            "cell_type": "code",
            "execution_count": null,
            "metadata": {
                "id": "AybJ1o6EZSTZ"
            },
            "outputs": [],
            "source": [
                "# Use the range\n",
                "\n",
                "range(3)"
            ]
        },
        {
            "cell_type": "markdown",
            "metadata": {
                "id": "x8ekw5lbZSTa"
            },
            "source": [
                "<img src=\"https://s3-api.us-geo.objectstorage.softlayer.net/cf-courses-data/CognitiveClass/PY0101EN/Chapter%203/Images/LoopsRange.png\" width=\"300\" />\n"
            ]
        },
        {
            "cell_type": "markdown",
            "metadata": {
                "id": "sbY4puTG85k-"
            },
            "source": [
                "# pour les boucles\n",
                "\n",
                "Une boucle <code>for</code> agit comme un itérateur en Python ; il passe par les éléments qui sont dans une *séquence* ou tout autre élément itérable. Les objets que nous avons appris sur lesquels nous pouvons itérer incluent des chaînes, des listes, des tuples et même des itérables intégrés pour les dictionnaires, tels que des clés ou des valeurs.\n",
                "\n",
                "Nous avons déjà vu un peu l'instruction <code>for</code> dans les cours précédents, mais formalisons maintenant notre compréhension.\n",
                "\n",
                "Voici le format général d'une boucle <code>for</code> en Python :\n",
                "\n",
                "pour l'élément dans l'objet :\n",
                "déclarations pour faire des choses\n",
                "\n"
            ]
        },
        {
            "cell_type": "markdown",
            "metadata": {
                "id": "ZyJwgPlcZSTb"
            },
            "source": [
                "# Qu'est-ce que la boucle for ?\n"
            ]
        },
        {
            "cell_type": "markdown",
            "metadata": {
                "id": "-kxrzMt8ZSTb"
            },
            "source": [
                "La boucle <code>for</code> vous permet d'exécuter plusieurs fois un bloc de code. Par exemple, vous l'utiliseriez si vous souhaitez imprimer chaque élément d'une liste.\n",
                "Essayons d'utiliser une boucle <code>for</code> pour imprimer toutes les années présentées dans la liste <code>dates</code> :\n"
            ]
        },
        {
            "cell_type": "markdown",
            "metadata": {
                "id": "hRogzFAbZSTb"
            },
            "source": [
                "Cela peut être fait comme suit:\n"
            ]
        },
        {
            "cell_type": "code",
            "execution_count": 1,
            "metadata": {
                "id": "L5ilv-NTZSTc"
            },
            "outputs": [
                {
                    "name": "stdout",
                    "output_type": "stream",
                    "text": [
                        "1982\n",
                        "1980\n",
                        "1973\n"
                    ]
                }
            ],
            "source": [
                "# For loop example\n",
                "\n",
                "dates = [1982,1980,1973]\n",
                "N = len(dates)\n",
                "#print(N)\n",
                "for i in range(N):\n",
                "    print(dates[i])     "
            ]
        },
        {
            "cell_type": "markdown",
            "metadata": {
                "id": "VGJKCUbBZSTc"
            },
            "source": [
                "Le code dans l'indentation est exécuté <code>N</code> fois, chaque fois que la valeur de <code>i</code> est augmentée de 1 pour chaque exécution. L'instruction exécutée consiste à <code>imprimer</code> la valeur dans la liste à l'index <code>i</code> comme indiqué ici :\n"
            ]
        },
        {
            "cell_type": "markdown",
            "metadata": {
                "id": "7kl6ZwoiZSTc"
            },
            "source": [
                "<img src=\"https://s3-api.us-geo.objectstorage.softlayer.net/cf-courses-data/CognitiveClass/PY0101EN/Chapter%203/Images/LoopsForRange.gif\" width=\"800\" />\n"
            ]
        },
        {
            "cell_type": "markdown",
            "metadata": {
                "id": "kMODKMHrZSTd"
            },
            "source": [
                "Dans cet exemple, nous pouvons imprimer une séquence de nombres de 0 à 7 :\n"
            ]
        },
        {
            "cell_type": "code",
            "execution_count": null,
            "metadata": {},
            "outputs": [],
            "source": []
        },
        {
            "cell_type": "code",
            "execution_count": null,
            "metadata": {
                "id": "AOeJhwZLZSTd"
            },
            "outputs": [],
            "source": [
                "# Example of for loop\n",
                "\n",
                "for i in range(0, 8):\n",
                "    print(i)"
            ]
        },
        {
            "cell_type": "markdown",
            "metadata": {
                "id": "_kdkn6mwZSTd"
            },
            "source": [
                "En Python, nous pouvons accéder directement aux éléments de la liste comme suit :\n"
            ]
        },
        {
            "cell_type": "code",
            "execution_count": 3,
            "metadata": {},
            "outputs": [
                {
                    "data": {
                        "text/plain": [
                            "[1982, 1980, 1973]"
                        ]
                    },
                    "execution_count": 3,
                    "metadata": {},
                    "output_type": "execute_result"
                }
            ],
            "source": [
                "dates"
            ]
        },
        {
            "cell_type": "code",
            "execution_count": null,
            "metadata": {},
            "outputs": [],
            "source": []
        },
        {
            "cell_type": "code",
            "execution_count": 4,
            "metadata": {
                "id": "YZvuC2HcZSTe"
            },
            "outputs": [
                {
                    "name": "stdout",
                    "output_type": "stream",
                    "text": [
                        "1982\n",
                        "1980\n",
                        "1973\n"
                    ]
                }
            ],
            "source": [
                "# Exmaple of for loop, loop through list\n",
                "\n",
                "for year in dates:  \n",
                "    print(year)   "
            ]
        },
        {
            "cell_type": "markdown",
            "metadata": {
                "id": "-sTkOf-sZSTe"
            },
            "source": [
                "A chaque itération, la valeur de la variable <code>years</code> se comporte comme la valeur de <code>dates[i]</code> dans le premier exemple :\n"
            ]
        },
        {
            "cell_type": "markdown",
            "metadata": {
                "id": "9s6ZIX8EZSTe"
            },
            "source": [
                "<img src=\"https://s3-api.us-geo.objectstorage.softlayer.net/cf-courses-data/CognitiveClass/PY0101EN/Chapter%203/Images/LoopsForList.gif\" width=\"800\">\n"
            ]
        },
        {
            "cell_type": "markdown",
            "metadata": {
                "id": "DX8DkUHPZSTe"
            },
            "source": [
                "On peut changer les éléments d'une liste :\n"
            ]
        },
        {
            "cell_type": "code",
            "execution_count": 3,
            "metadata": {
                "id": "1JeRffYUZSTe"
            },
            "outputs": [
                {
                    "name": "stdout",
                    "output_type": "stream",
                    "text": [
                        "Before square  0 is red\n",
                        "After square  0 is weight\n",
                        "Before square  1 is yellow\n",
                        "After square  1 is weight\n",
                        "Before square  2 is green\n",
                        "After square  2 is weight\n",
                        "Before square  3 is purple\n",
                        "After square  3 is weight\n",
                        "Before square  4 is blue\n",
                        "After square  4 is weight\n"
                    ]
                }
            ],
            "source": [
                "# Use for loop to change the elements in list\n",
                "\n",
                "squares = ['red', 'yellow', 'green', 'purple', 'blue']\n",
                "\n",
                "for i in range(0, 5):\n",
                "    print(\"Before square \", i, 'is',  squares[i])\n",
                "    squares[i] = 'weight'\n",
                "    print(\"After square \", i, 'is',  squares[i])"
            ]
        },
        {
            "cell_type": "markdown",
            "metadata": {
                "id": "esThPZsvZSTe"
            },
            "source": [
                "On peut accéder à l'index et aux éléments d'une liste comme suit :\n"
            ]
        },
        {
            "cell_type": "code",
            "execution_count": 4,
            "metadata": {
                "id": "qEe3j8iqZSTf"
            },
            "outputs": [
                {
                    "name": "stdout",
                    "output_type": "stream",
                    "text": [
                        "0 red\n",
                        "1 yellow\n",
                        "2 green\n",
                        "3 purple\n",
                        "4 blue\n"
                    ]
                }
            ],
            "source": [
                "# Loop through the list and iterate on both index and element value\n",
                "\n",
                "squares=['red', 'yellow', 'green', 'purple', 'blue']\n",
                "\n",
                "for i, square in enumerate(squares):\n",
                "    print(i, square)"
            ]
        },
        {
            "cell_type": "markdown",
            "metadata": {
                "id": "5aWlAXFl85k_"
            },
            "source": [
                "Le nom de variable utilisé pour l'élément dépend entièrement du codeur, alors utilisez votre meilleur jugement pour choisir un nom qui a du sens et vous serez en mesure de comprendre lorsque vous revisiterez votre code. Ce nom d'élément peut ensuite être référencé dans votre boucle, par exemple si vous souhaitez utiliser des instructions <code>if</code> pour effectuer des vérifications.\n",
                "\n",
                "Continuons et examinons plusieurs exemples de boucles <code>for</code> utilisant une variété de types d'objets de données. Nous allons commencer simple et construire plus de complexité plus tard.\n",
                "\n",
                "## Exemple 1\n",
                "Itérer dans une liste\n"
            ]
        },
        {
            "cell_type": "code",
            "execution_count": 6,
            "metadata": {
                "collapsed": true,
                "id": "PxHfkzpP85lA"
            },
            "outputs": [],
            "source": [
                "# We'll learn how to automate this sort of list in the next lecture\n",
                "list1 = [1,2,3,4,5,6,7,8,9,10]"
            ]
        },
        {
            "cell_type": "code",
            "execution_count": null,
            "metadata": {
                "id": "a9LnL5uX85lB",
                "outputId": "37b221ad-39ca-492d-e2bb-43070de7645f"
            },
            "outputs": [
                {
                    "name": "stdout",
                    "output_type": "stream",
                    "text": [
                        "1\n",
                        "2\n",
                        "3\n",
                        "4\n",
                        "5\n",
                        "6\n",
                        "7\n",
                        "8\n",
                        "9\n",
                        "10\n"
                    ]
                }
            ],
            "source": [
                "for num in list1:\n",
                "    print(num)"
            ]
        },
        {
            "cell_type": "markdown",
            "metadata": {
                "id": "IXMsRbmW85lC"
            },
            "source": [
                "Super! J'espère que cela a du sens. Ajoutons maintenant une instruction <code>if</code> pour vérifier les nombres pairs. Nous allons d'abord introduire un nouveau concept ici - le modulo.\n",
                "### Module\n",
                "Le modulo nous permet d'obtenir le reste dans une division et utilise le symbole %. Par exemple:\n"
            ]
        },
        {
            "cell_type": "code",
            "execution_count": null,
            "metadata": {
                "id": "dvbB_bXo85lD",
                "outputId": "58e82586-23d9-42f8-d536-16d0ba85a803"
            },
            "outputs": [
                {
                    "data": {
                        "text/plain": [
                            "2"
                        ]
                    },
                    "execution_count": 3,
                    "metadata": {},
                    "output_type": "execute_result"
                }
            ],
            "source": [
                "17 % 5"
            ]
        },
        {
            "cell_type": "markdown",
            "metadata": {
                "id": "eU2WYFCF85lD"
            },
            "source": [
                "Cela a du sens puisque 17 divisé par 5 donne 3 reste 2. Voyons quelques exemples rapides :\n"
            ]
        },
        {
            "cell_type": "code",
            "execution_count": null,
            "metadata": {
                "id": "azHslFHX85lE",
                "outputId": "d7336969-34f9-48f1-a9fb-f6714fd0f7b5"
            },
            "outputs": [
                {
                    "data": {
                        "text/plain": [
                            "1"
                        ]
                    },
                    "execution_count": 4,
                    "metadata": {},
                    "output_type": "execute_result"
                }
            ],
            "source": [
                "# 3 Remainder 1\n",
                "10 % 3"
            ]
        },
        {
            "cell_type": "code",
            "execution_count": null,
            "metadata": {
                "id": "dxKEBw2k85lF",
                "outputId": "eaadf277-5c97-4c7d-e700-092f656320e0"
            },
            "outputs": [
                {
                    "data": {
                        "text/plain": [
                            "4"
                        ]
                    },
                    "execution_count": 5,
                    "metadata": {},
                    "output_type": "execute_result"
                }
            ],
            "source": [
                "# 2 Remainder 4\n",
                "18 % 7"
            ]
        },
        {
            "cell_type": "code",
            "execution_count": null,
            "metadata": {
                "id": "7AtGa9xo85lF",
                "outputId": "25e9d220-0b88-40fc-f5d3-74260901c703"
            },
            "outputs": [
                {
                    "data": {
                        "text/plain": [
                            "0"
                        ]
                    },
                    "execution_count": 6,
                    "metadata": {},
                    "output_type": "execute_result"
                }
            ],
            "source": [
                "# 2 no remainder\n",
                "4 % 2"
            ]
        },
        {
            "cell_type": "markdown",
            "metadata": {
                "id": "5ODcJ2ut85lG"
            },
            "source": [
                "Notez que si un nombre est entièrement divisible sans reste, le résultat de l'appel modulo est 0. Nous pouvons l'utiliser pour tester les nombres pairs, car si un nombre modulo 2 est égal à 0, cela signifie que c'est un nombre pair !\n",
                "\n",
                "Retour aux boucles <code>for</code> !\n",
                "\n",
                "## Exemple 2\n",
                "N'imprimons que les nombres pairs de cette liste !\n"
            ]
        },
        {
            "cell_type": "code",
            "execution_count": 8,
            "metadata": {
                "id": "Xun07jEo85lG",
                "outputId": "ff13d227-2107-45f8-a7e2-7211ae963c5f"
            },
            "outputs": [
                {
                    "name": "stdout",
                    "output_type": "stream",
                    "text": [
                        "1\n",
                        "3\n",
                        "5\n",
                        "7\n",
                        "9\n"
                    ]
                }
            ],
            "source": [
                "for num in list1:\n",
                "    if num % 2 != 0:\n",
                "        print(num)"
            ]
        },
        {
            "cell_type": "markdown",
            "metadata": {
                "id": "8sWtm4GN85lH"
            },
            "source": [
                "Nous aurions également pu y mettre une instruction <code>else</code> :\n"
            ]
        },
        {
            "cell_type": "code",
            "execution_count": null,
            "metadata": {
                "id": "HJ7xKsVb85lH",
                "outputId": "5a324b22-aa4a-4b2b-e116-19d3007d8fb0"
            },
            "outputs": [
                {
                    "name": "stdout",
                    "output_type": "stream",
                    "text": [
                        "Odd number\n",
                        "2\n",
                        "Odd number\n",
                        "4\n",
                        "Odd number\n",
                        "6\n",
                        "Odd number\n",
                        "8\n",
                        "Odd number\n",
                        "10\n"
                    ]
                }
            ],
            "source": [
                "for num in list1:\n",
                "    if num % 2 == 0:\n",
                "        print(num)\n",
                "    else:\n",
                "        print('Odd number')"
            ]
        },
        {
            "cell_type": "markdown",
            "metadata": {
                "id": "RFkniOL_85lH"
            },
            "source": [
                "## Exemple 3\n",
                "Une autre idée courante lors d'une boucle <code>for</code> consiste à conserver une sorte de décompte courant pendant plusieurs boucles. Par exemple, créons une boucle <code>for</code> qui résume la liste :\n"
            ]
        },
        {
            "cell_type": "code",
            "execution_count": 9,
            "metadata": {
                "id": "K9aBwBaQ85lH",
                "outputId": "f1c97076-55d8-4e20-c028-e388a701787c"
            },
            "outputs": [
                {
                    "name": "stdout",
                    "output_type": "stream",
                    "text": [
                        "55\n"
                    ]
                }
            ],
            "source": [
                "# Start sum at zero\n",
                "list_sum = 0 \n",
                "\n",
                "for num in list1:\n",
                "    list_sum = list_sum + num\n",
                "\n",
                "print(list_sum)"
            ]
        },
        {
            "cell_type": "markdown",
            "metadata": {
                "id": "sXCk_in_85lI"
            },
            "source": [
                "Super! Lisez la cellule ci-dessus et assurez-vous de bien comprendre ce qui se passe. Nous aurions également pu implémenter un <code>+=</code> pour effectuer l'addition vers la somme. Par exemple:\n"
            ]
        },
        {
            "cell_type": "code",
            "execution_count": null,
            "metadata": {
                "id": "iR6AJi-r85lI",
                "outputId": "49b02c73-fb19-437d-e775-1d8b62d828bd"
            },
            "outputs": [
                {
                    "name": "stdout",
                    "output_type": "stream",
                    "text": [
                        "55\n"
                    ]
                }
            ],
            "source": [
                "# Start sum at zero\n",
                "list_sum = 0 \n",
                "\n",
                "for num in list1:\n",
                "    list_sum += num\n",
                "\n",
                "print(list_sum)"
            ]
        },
        {
            "cell_type": "markdown",
            "metadata": {
                "id": "9Tqye1ib85lI"
            },
            "source": [
                "## Exemple 4\n",
                "Nous avons utilisé des boucles <code>for</code> avec des listes, qu'en est-il des chaînes ? N'oubliez pas que les chaînes sont une séquence, donc lorsque nous les parcourons, nous accédons à chaque élément de cette chaîne.\n"
            ]
        },
        {
            "cell_type": "code",
            "execution_count": null,
            "metadata": {
                "id": "zwbuZH7B85lI",
                "outputId": "2fe2cebe-54af-403a-c36a-c2c84c13d701"
            },
            "outputs": [
                {
                    "name": "stdout",
                    "output_type": "stream",
                    "text": [
                        "T\n",
                        "h\n",
                        "i\n",
                        "s\n",
                        " \n",
                        "i\n",
                        "s\n",
                        " \n",
                        "a\n",
                        " \n",
                        "s\n",
                        "t\n",
                        "r\n",
                        "i\n",
                        "n\n",
                        "g\n",
                        ".\n"
                    ]
                }
            ],
            "source": [
                "for letter in 'This is a string.':\n",
                "    print(letter)"
            ]
        },
        {
            "cell_type": "markdown",
            "metadata": {
                "id": "KH0b6tIT85lJ"
            },
            "source": [
                "## Exemple 5\n",
                "Voyons maintenant comment une boucle <code>for</code> peut être utilisée avec un tuple :\n"
            ]
        },
        {
            "cell_type": "code",
            "execution_count": null,
            "metadata": {
                "id": "WxXCN-CO85lJ",
                "outputId": "72ede880-0fb5-4fc2-e94d-1af71b78705a"
            },
            "outputs": [
                {
                    "name": "stdout",
                    "output_type": "stream",
                    "text": [
                        "1\n",
                        "2\n",
                        "3\n",
                        "4\n",
                        "5\n"
                    ]
                }
            ],
            "source": [
                "tup = (1,2,3,4,5)\n",
                "\n",
                "for t in tup:\n",
                "    print(t)"
            ]
        },
        {
            "cell_type": "markdown",
            "metadata": {
                "id": "4HezxArJ85lJ"
            },
            "source": [
                "## Exemple 6\n",
                "Les tuples ont une qualité particulière lorsqu'il s'agit de boucles <code>for</code>. Si vous parcourez une séquence qui contient des tuples, l'élément peut en fait être le tuple lui-même, c'est un exemple de *tuple unpacking*. Pendant la boucle <code>for</code> nous allons déballer le tuple à l'intérieur d'une séquence et nous pourrons accéder aux éléments individuels à l'intérieur de ce tuple !\n"
            ]
        },
        {
            "cell_type": "code",
            "execution_count": null,
            "metadata": {
                "collapsed": true,
                "id": "Ds-Vanv_85lK"
            },
            "outputs": [],
            "source": [
                "list2 = [(2,4),(6,8),(10,12)]"
            ]
        },
        {
            "cell_type": "code",
            "execution_count": null,
            "metadata": {
                "id": "98LuVEFr85lK",
                "outputId": "a56def9c-b4e8-441d-ff29-555066a4d08d"
            },
            "outputs": [
                {
                    "name": "stdout",
                    "output_type": "stream",
                    "text": [
                        "(2, 4)\n",
                        "(6, 8)\n",
                        "(10, 12)\n"
                    ]
                }
            ],
            "source": [
                "for tup in list2:\n",
                "    print(tup)"
            ]
        },
        {
            "cell_type": "code",
            "execution_count": null,
            "metadata": {
                "id": "m-DLHHMI85lK",
                "outputId": "6abd8ed2-a5b7-4930-80c8-40de3d36e459"
            },
            "outputs": [
                {
                    "name": "stdout",
                    "output_type": "stream",
                    "text": [
                        "2\n",
                        "6\n",
                        "10\n"
                    ]
                }
            ],
            "source": [
                "# Now with unpacking!\n",
                "for (t1,t2) in list2:\n",
                "    print(t1)"
            ]
        },
        {
            "cell_type": "markdown",
            "metadata": {
                "id": "I2RxpIvN85lK"
            },
            "source": [
                "Cool! Avec des tuples dans une séquence, nous pouvons accéder aux éléments qu'ils contiennent en décompressant ! La raison pour laquelle cela est important est que de nombreux objets livreront leurs itérables via des tuples. Commençons à explorer l'itération dans les dictionnaires pour explorer cela plus avant !\n"
            ]
        },
        {
            "cell_type": "markdown",
            "metadata": {
                "id": "3mQj4SFc85lL"
            },
            "source": [
                "## Exemple 7\n"
            ]
        },
        {
            "cell_type": "code",
            "execution_count": 11,
            "metadata": {
                "collapsed": true,
                "id": "Kv02gmGJ85lL"
            },
            "outputs": [],
            "source": [
                "d = {'k1':1,'k2':2,'k3':3}"
            ]
        },
        {
            "cell_type": "code",
            "execution_count": null,
            "metadata": {
                "id": "36XA7R6G85lL",
                "outputId": "1eb080c7-88e6-4ed5-c961-4fae0cb2b500"
            },
            "outputs": [
                {
                    "name": "stdout",
                    "output_type": "stream",
                    "text": [
                        "k1\n",
                        "k2\n",
                        "k3\n"
                    ]
                }
            ],
            "source": [
                "for item in d:\n",
                "    print(item)"
            ]
        },
        {
            "cell_type": "markdown",
            "metadata": {
                "id": "1ZlRZ7r585lL"
            },
            "source": [
                "Remarquez comment cela ne produit que les clés. Alors, comment pouvons-nous obtenir les valeurs? Ou les clés et les valeurs ?\n",
                "\n",
                "Nous allons introduire trois nouvelles méthodes de dictionnaire : **.keys()**, **.values()** et **.items()**\n",
                "\n",
                "En Python, chacune de ces méthodes renvoie un *objet de vue dictionnaire*. Il prend en charge des opérations telles que le test d'appartenance et l'itération, mais son contenu n'est pas indépendant du dictionnaire d'origine - il ne s'agit que d'une vue. Voyons-le en action :\n"
            ]
        },
        {
            "cell_type": "code",
            "execution_count": null,
            "metadata": {
                "id": "WsH-mSuY85lM",
                "outputId": "7bfc8ce7-3c7f-44c6-abce-a27536ffffc4"
            },
            "outputs": [
                {
                    "data": {
                        "text/plain": [
                            "dict_items([('k1', 1), ('k2', 2), ('k3', 3)])"
                        ]
                    },
                    "execution_count": 18,
                    "metadata": {},
                    "output_type": "execute_result"
                }
            ],
            "source": [
                "# Create a dictionary view object\n",
                "d.items()"
            ]
        },
        {
            "cell_type": "markdown",
            "metadata": {
                "id": "5ohs8Zh085lN"
            },
            "source": [
                "Étant donné que la méthode .items() prend en charge l'itération, nous pouvons effectuer un * déballage du dictionnaire * pour séparer les clés et les valeurs comme nous l'avons fait dans les exemples précédents.\n"
            ]
        },
        {
            "cell_type": "code",
            "execution_count": 13,
            "metadata": {
                "id": "IXEOxdd685lN",
                "outputId": "9e14fb8c-f4fe-485c-a411-b28aee41d739"
            },
            "outputs": [
                {
                    "name": "stdout",
                    "output_type": "stream",
                    "text": [
                        "k1 1\n",
                        "k2 2\n",
                        "k3 3\n"
                    ]
                }
            ],
            "source": [
                "# Dictionary unpacking\n",
                "for k,v in d.items():\n",
                "    print(k,v)\n",
                "    #print(v)"
            ]
        },
        {
            "cell_type": "markdown",
            "metadata": {
                "id": "bmLoYNGy85lN"
            },
            "source": [
                "Si vous souhaitez obtenir une véritable liste de clés, de valeurs ou de tuples clé/valeur, vous pouvez *convertir* la vue en liste :\n"
            ]
        },
        {
            "cell_type": "code",
            "execution_count": null,
            "metadata": {
                "id": "QaRBKSpT85lN",
                "outputId": "a2a86013-3249-41a3-ebb1-0817ed3b72cf"
            },
            "outputs": [
                {
                    "data": {
                        "text/plain": [
                            "['k1', 'k2', 'k3']"
                        ]
                    },
                    "execution_count": 20,
                    "metadata": {},
                    "output_type": "execute_result"
                }
            ],
            "source": [
                "list(d.keys())"
            ]
        },
        {
            "cell_type": "markdown",
            "metadata": {
                "id": "-u5v7DcR85lN"
            },
            "source": [
                "N'oubliez pas que les dictionnaires ne sont pas ordonnés et que les clés et les valeurs reviennent dans un ordre arbitraire. Vous pouvez obtenir une liste triée en utilisant sorted() :\n"
            ]
        },
        {
            "cell_type": "code",
            "execution_count": null,
            "metadata": {
                "id": "FSdtzrPZ85lO",
                "outputId": "f3431600-5808-4d53-9ca5-15791c3d2caa"
            },
            "outputs": [
                {
                    "data": {
                        "text/plain": [
                            "[1, 2, 3]"
                        ]
                    },
                    "execution_count": 21,
                    "metadata": {},
                    "output_type": "execute_result"
                }
            ],
            "source": [
                "sorted(d.values())"
            ]
        },
        {
            "cell_type": "markdown",
            "metadata": {
                "id": "HMzbv1m2ZSTg"
            },
            "source": [
                "# Quiz sur les boucles\n"
            ]
        },
        {
            "cell_type": "markdown",
            "metadata": {
                "id": "qIgPKppVZSTh"
            },
            "source": [
                "Écrivez une boucle <code>for</code> qui imprime tous les éléments entre <b>-5</b> et <b>5</b> en utilisant la fonction range.\n"
            ]
        },
        {
            "cell_type": "code",
            "execution_count": null,
            "metadata": {
                "id": "IWr5HP0lZSTh"
            },
            "outputs": [],
            "source": []
        },
        {
            "cell_type": "code",
            "execution_count": 14,
            "metadata": {
                "id": "ncwm7owZDzSK"
            },
            "outputs": [
                {
                    "name": "stdout",
                    "output_type": "stream",
                    "text": [
                        "-5\n",
                        "-4\n",
                        "-3\n",
                        "-2\n",
                        "-1\n",
                        "0\n",
                        "1\n",
                        "2\n",
                        "3\n",
                        "4\n",
                        "5\n"
                    ]
                }
            ],
            "source": [
                "#@title Solution\n",
                "for i in range(-5, 6):\n",
                "    print(i)"
            ]
        },
        {
            "cell_type": "markdown",
            "metadata": {
                "id": "h8JtD8HpZSTh"
            },
            "source": [
                "Imprimez les éléments de la liste suivante :\n",
                "<code>Genres=[ 'rock', 'R&B', 'Soundtrack', 'R&B', 'soul', 'pop']</code>\n",
                "Assurez-vous de suivre les conventions Python.\n"
            ]
        },
        {
            "cell_type": "code",
            "execution_count": null,
            "metadata": {
                "id": "aaG0E6B2ZSTh"
            },
            "outputs": [],
            "source": [
                "# Write your code below and press Shift+Enter to execute"
            ]
        },
        {
            "cell_type": "code",
            "execution_count": 17,
            "metadata": {
                "cellView": "form",
                "id": "lqYkzR7LD3ph"
            },
            "outputs": [
                {
                    "name": "stdout",
                    "output_type": "stream",
                    "text": [
                        "rock\n",
                        "R&B\n",
                        "Soundtrack\n",
                        "R&B\n",
                        "soul\n",
                        "pop\n"
                    ]
                }
            ],
            "source": [
                "#@title Solution\n",
                "Genres = ['rock', 'R&B', 'Soundtrack', 'R&B', 'soul', 'pop']\n",
                "for Genre in Genres:\n",
                "    print(Genre)"
            ]
        },
        {
            "cell_type": "markdown",
            "metadata": {
                "id": "_9_pXAb9ZSTi"
            },
            "source": [
                "<h>\n"
            ]
        },
        {
            "cell_type": "markdown",
            "metadata": {
                "id": "UKnP2safZSTi"
            },
            "source": [
                "Écrivez une boucle for qui affiche la liste suivante : <code>squares=['red', 'yellow', 'green', 'purple', 'blue']</code>\n"
            ]
        },
        {
            "cell_type": "code",
            "execution_count": null,
            "metadata": {
                "id": "qIID11iPZSTi"
            },
            "outputs": [],
            "source": [
                "# Write your code below and press Shift+Enter to execute"
            ]
        },
        {
            "cell_type": "code",
            "execution_count": null,
            "metadata": {
                "cellView": "form",
                "id": "D0LeZOQzD7go"
            },
            "outputs": [],
            "source": [
                "#@title Solution\n",
                "squares=['red', 'yellow', 'green', 'purple', 'blue']\n",
                "for square in squares:\n",
                "    print(square)"
            ]
        },
        {
            "cell_type": "markdown",
            "metadata": {
                "id": "RZURpdveZSTj"
            },
            "source": [
                "<h>\n"
            ]
        }
    ],
    "metadata": {
        "kernelspec": {
            "display_name": "Python 3",
            "language": "python",
            "name": "python3"
        },
        "language_info": {
            "codemirror_mode": {
                "name": "ipython",
                "version": 3
            },
            "file_extension": ".py",
            "mimetype": "text/x-python",
            "name": "python",
            "nbconvert_exporter": "python",
            "pygments_lexer": "ipython3",
            "version": "3.7.9 (tags/v3.7.9:13c94747c7, Aug 17 2020, 18:58:18) [MSC v.1900 64 bit (AMD64)]"
        },
        "vscode": {
            "interpreter": {
                "hash": "548955215833c5cef9ca446febdbcd3f517025cd8f72e3f026c8858cebd051b9"
            }
        }
    },
    "nbformat": 4,
    "nbformat_minor": 0
}
