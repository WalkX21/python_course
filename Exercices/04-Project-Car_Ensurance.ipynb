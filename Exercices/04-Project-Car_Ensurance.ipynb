{
    "cells": [
        {
            "cell_type": "markdown",
            "metadata": {
                "colab_type": "text",
                "id": "view-in-github"
            },
            "source": [
                "<a href=\"https://colab.research.google.com/github/yahia-kplr/Fondamentaux-Python_fr/blob/main/Jour_02/Projets/Exercises/04-Project-Car_Ensurance.ipynb\" target=\"_blank\"><img src=\"https://colab.research.google.com/assets/colab-badge.svg\" alt=\"Open In Colab\"/></a>"
            ]
        },
        {
            "cell_type": "markdown",
            "id": "967c045e",
            "metadata": {},
            "source": [
                "# Projet - Assurance Auto\n",
                "### Mais\n",
                "- Calcul de l'assurance automobile basé sur l'arbre de décision suivant\n"
            ]
        },
        {
            "attachments": {},
            "cell_type": "markdown",
            "id": "e346a214",
            "metadata": {},
            "source": [
                "![texte alternatif](../img/DecisionTree.png \"Titre\")\n"
            ]
        },
        {
            "cell_type": "markdown",
            "id": "055cfb9a",
            "metadata": {},
            "source": [
                "### Description\n",
                "- Il s'agit d'une compagnie d'assurance automobile fictive appelée Car Crash\n",
                "- Ils calculent le prix annuel de l'assurance en fonction du prix actuel du marché de la voiture\n",
                "- Étant donné le prix du marché : market_price\n",
                "- Ensuite, le prix d'assurance annuel est de 9 % du prix du marché s'il s'agit d'un homme de plus de 26 ans.\n",
                "- Comme nous le voyons dans l'arbre de décision, nous avons 4 calculs de prix possibles.\n",
                "- Créer un programme, qui prend en compte et sur la base de cela calculé le prix correct pour les 4 cas\n"
            ]
        },
        {
            "cell_type": "code",
            "execution_count": null,
            "id": "223796de",
            "metadata": {},
            "outputs": [],
            "source": [
                "gender = input(\"\")\n",
                "      gender = gender.upper()\n",
                "      if gender == \"MALE\":\n",
                "           age = int(input(\"age?\")) \n",
                "           if (age <= 26):"
            ]
        },
        {
            "cell_type": "code",
            "execution_count": null,
            "id": "57d8fb5f",
            "metadata": {},
            "outputs": [],
            "source": [
                "\n",
                "\n",
                "gender = input(\"What is your gender (M/F): \")\n",
                "gender = gender.upper()\n",
                "if gender == 'M':\n",
                "    print(\"Male\")\n",
                "    age = input(\"What is your age? \")\n",
                "    age = int(age)\n",
                "    if age <= 26:\n",
                "        print(\"Less/equal to 26\")\n",
                "        percentage = 23\n",
                "    else:\n",
                "        print(\"More than 26\")\n",
                "        percentage = 9\n",
                "elif gender == 'F':\n",
                "    print(\"Female\")\n",
                "    car_type = input(\"What is your car type (sports/non-sports) \")\n",
                "    car_type = car_type.upper()\n",
                "    if car_type == \"SPORTS\":\n",
                "        print(\"Sports car\")\n",
                "        percentage = 21\n",
                "    else:\n",
                "        print(\"Non-sports car\")\n",
                "        percentage = 10\n",
                "else:\n",
                "    print(\"Wrong format\")\n",
                "    percentage = None\n",
                "\n",
                "market_price = input(\"What is the market price of your car? \")\n",
                "market_price = int(market_price)\n",
                "\n",
                "ensurance_offer = market_price*percentage/100\n",
                "\n",
                "\n",
                "\n",
                "print(f\"Ensurance offer: {ensurance_offer}\")\n",
                "\n"
            ]
        },
        {
            "cell_type": "code",
            "execution_count": 4,
            "id": "cf569ae7",
            "metadata": {},
            "outputs": [
                {
                    "name": "stdout",
                    "output_type": "stream",
                    "text": [
                        "34500.0\n"
                    ]
                }
            ],
            "source": [
                "market_price = int(input(\"quelle esr le prix de votre voiture ?\"))\n",
                "gender = input(\"\")\n",
                "gender = gender.upper()\n",
                "if gender == \"MALE\":\n",
                "    age = int(input(\"age?\"))\n",
                "    if (age <= 26):\n",
                "        price = (market_price * 23)/100\n",
                "        print (price)\n",
                "    else:\n",
                "        price = (market_price * 9)/100\n",
                "        print (price)\n",
                "elif gender == \"FEMALE\":\n",
                "    sport = input(\"sport?\")\n",
                "    sport = sport.upper()\n",
                "    if sport == \"YES\":\n",
                "        price = (market_price * 21)/100\n",
                "        print (price)\n",
                "    else:\n",
                "        price = (market_price * 10)/100\n",
                "        print (price)\n",
                "\n",
                "\n"
            ]
        }
    ],
    "metadata": {
        "kernelspec": {
            "display_name": "Python 3",
            "language": "python",
            "name": "python3"
        },
        "language_info": {
            "codemirror_mode": {
                "name": "ipython",
                "version": 3
            },
            "file_extension": ".py",
            "mimetype": "text/x-python",
            "name": "python",
            "nbconvert_exporter": "python",
            "pygments_lexer": "ipython3",
            "version": "3.7.9 (tags/v3.7.9:13c94747c7, Aug 17 2020, 18:58:18) [MSC v.1900 64 bit (AMD64)]"
        },
        "vscode": {
            "interpreter": {
                "hash": "548955215833c5cef9ca446febdbcd3f517025cd8f72e3f026c8858cebd051b9"
            }
        }
    },
    "nbformat": 4,
    "nbformat_minor": 5
}
