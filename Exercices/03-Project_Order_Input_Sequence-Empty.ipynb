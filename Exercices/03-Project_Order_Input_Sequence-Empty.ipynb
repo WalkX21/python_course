{
    "cells": [
        {
            "cell_type": "markdown",
            "metadata": {
                "colab_type": "text",
                "id": "view-in-github"
            },
            "source": [
                "<a href=\"https://colab.research.google.com/github/yahia-kplr/Fondamentaux-Python_fr/blob/main/Jour_02/Projets/Exercises/03-Project_Order_Input_Sequence-Empty.ipynb\" target=\"_blank\"><img src=\"https://colab.research.google.com/assets/colab-badge.svg\" alt=\"Open In Colab\"/></a>"
            ]
        },
        {
            "cell_type": "markdown",
            "id": "c3cbb30f",
            "metadata": {},
            "source": [
                "# Séquence d'entrée de la commande de projet\n"
            ]
        },
        {
            "cell_type": "markdown",
            "id": "62ad7ed9",
            "metadata": {},
            "source": [
                "Dans ce projet, vous demanderez à l'utilisateur de saisir 3 chiffres. Ensuite, devrait sortir les nombres dans l'ordre croissant.\n",
                "\n",
                "#### Exemple\n",
                "- L'utilisateur saisit les nombres : 10, 7, 8\n",
                "- Ensuite, le programme doit afficher : 7, 8, 10\n",
                "\n",
                "Prenez un moment et réfléchissez à la manière dont vous pouvez y parvenir avec vos compétences actuelles.\n",
                "\n",
                "Ne vous inquiétez pas si vous ne pouvez pas le comprendre.\n"
            ]
        },
        {
            "cell_type": "markdown",
            "id": "8921f062",
            "metadata": {},
            "source": [
                "### Étape 1 : Entrée de l'utilisateur\n",
                "- Entrez 3 nombres de l'utilisateur à 3 variables d'entrée.\n"
            ]
        },
        {
            "cell_type": "code",
            "execution_count": 9,
            "id": "b14bea4c",
            "metadata": {},
            "outputs": [],
            "source": [
                "nbr1 = int(input(\"salam donne nombre 1\"))\n",
                "nbr2 = int(input(\"salam donne nombre 2\"))\n",
                "nbr3 = int(input(\"salam donne nombre 3\"))"
            ]
        },
        {
            "cell_type": "code",
            "execution_count": null,
            "id": "90b9b5c6",
            "metadata": {},
            "outputs": [],
            "source": []
        },
        {
            "cell_type": "code",
            "execution_count": null,
            "id": "934ed5b7",
            "metadata": {},
            "outputs": [],
            "source": []
        },
        {
            "cell_type": "markdown",
            "id": "ecaa8827",
            "metadata": {},
            "source": [
                "### Étape 2 : Convertir\n",
                "- Convertir les 3 variables d'entrée en nombres entiers (`int`)\n"
            ]
        },
        {
            "cell_type": "code",
            "execution_count": null,
            "id": "226a3c8f",
            "metadata": {},
            "outputs": [],
            "source": []
        },
        {
            "cell_type": "code",
            "execution_count": null,
            "id": "c5e608c0",
            "metadata": {},
            "outputs": [],
            "source": []
        },
        {
            "cell_type": "code",
            "execution_count": null,
            "id": "6e20d3ad",
            "metadata": {},
            "outputs": [],
            "source": []
        },
        {
            "cell_type": "markdown",
            "id": "5803296a",
            "metadata": {},
            "source": [
                "### Étape 3 : liste\n",
                "- Créer une liste contenant les 3 variables.\n"
            ]
        },
        {
            "cell_type": "code",
            "execution_count": 10,
            "id": "6ffbc6e8",
            "metadata": {},
            "outputs": [],
            "source": [
                "l = [nbr1, nbr2, nbr3]"
            ]
        },
        {
            "cell_type": "code",
            "execution_count": null,
            "id": "897b3a3e",
            "metadata": {},
            "outputs": [],
            "source": []
        },
        {
            "cell_type": "code",
            "execution_count": null,
            "id": "f945a8b6",
            "metadata": {},
            "outputs": [],
            "source": []
        },
        {
            "cell_type": "markdown",
            "id": "8a479042",
            "metadata": {},
            "source": [
                "### Étape 4 : Trier\n",
                "- Trier la liste\n"
            ]
        },
        {
            "cell_type": "code",
            "execution_count": 13,
            "id": "7f2ac21b",
            "metadata": {},
            "outputs": [],
            "source": [
                "l.sort()"
            ]
        },
        {
            "cell_type": "code",
            "execution_count": null,
            "id": "cf4830db",
            "metadata": {},
            "outputs": [],
            "source": []
        },
        {
            "cell_type": "code",
            "execution_count": null,
            "id": "4cfc42d9",
            "metadata": {},
            "outputs": [],
            "source": []
        },
        {
            "cell_type": "markdown",
            "id": "33b959e5",
            "metadata": {},
            "source": [
                "### Étape 5 : Imprimer\n",
                "- Imprimer les éléments de la liste\n"
            ]
        },
        {
            "cell_type": "code",
            "execution_count": 14,
            "id": "44d661ef",
            "metadata": {},
            "outputs": [
                {
                    "name": "stdout",
                    "output_type": "stream",
                    "text": [
                        "[4657, 768908, 689576709687577857895875785]\n"
                    ]
                }
            ],
            "source": [
                "print (l)"
            ]
        },
        {
            "cell_type": "code",
            "execution_count": null,
            "id": "c5d0470c",
            "metadata": {},
            "outputs": [],
            "source": []
        },
        {
            "cell_type": "code",
            "execution_count": null,
            "id": "06207d33",
            "metadata": {},
            "outputs": [],
            "source": []
        }
    ],
    "metadata": {
        "kernelspec": {
            "display_name": "Python 3",
            "language": "python",
            "name": "python3"
        },
        "language_info": {
            "codemirror_mode": {
                "name": "ipython",
                "version": 3
            },
            "file_extension": ".py",
            "mimetype": "text/x-python",
            "name": "python",
            "nbconvert_exporter": "python",
            "pygments_lexer": "ipython3",
            "version": "3.7.9 (tags/v3.7.9:13c94747c7, Aug 17 2020, 18:58:18) [MSC v.1900 64 bit (AMD64)]"
        },
        "vscode": {
            "interpreter": {
                "hash": "548955215833c5cef9ca446febdbcd3f517025cd8f72e3f026c8858cebd051b9"
            }
        }
    },
    "nbformat": 4,
    "nbformat_minor": 5
}
